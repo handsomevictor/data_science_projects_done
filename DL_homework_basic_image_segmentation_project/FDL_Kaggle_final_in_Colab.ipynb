{
  "nbformat": 4,
  "nbformat_minor": 0,
  "metadata": {
    "colab": {
      "name": "FDL Kaggle Jan17 in Colab.ipynb",
      "provenance": [],
      "collapsed_sections": [],
      "machine_shape": "hm"
    },
    "kernelspec": {
      "name": "python3",
      "display_name": "Python 3"
    },
    "language_info": {
      "name": "python"
    },
    "accelerator": "GPU"
  },
  "cells": [
    {
      "cell_type": "markdown",
      "source": [
        "# The Following Work is solely for FDL course.\n",
        "\n",
        "Zhenning Li has the sole property right on it.\n",
        "\n",
        "More details please go to https://github.com/handsomevictor/data_science_projects_done"
      ],
      "metadata": {
        "id": "Zqv_7Wnt2Osh"
      }
    },
    {
      "cell_type": "code",
      "execution_count": 1,
      "metadata": {
        "id": "0li6FOpq1omy"
      },
      "outputs": [],
      "source": [
        "import torch.nn as nn\n",
        "import torch\n",
        "from torch import cuda\n",
        "import cv2\n",
        "import os\n",
        "import glob\n",
        "from torch.utils.data import Dataset\n",
        "import random\n",
        "from torchvision import transforms\n",
        "import matplotlib.pyplot as plt\n",
        "from torch import optim\n",
        "from tqdm import tqdm\n",
        "import numpy as np\n",
        "from torchvision.utils import save_image\n",
        "import pandas as pd\n",
        "from PIL import Image\n",
        "import matplotlib.pyplot as plt\n",
        "import torch.nn.functional as F\n",
        "import torch.optim as optim\n",
        "import torch.nn as nn\n",
        "\n",
        "\n",
        "import warnings\n",
        "warnings.filterwarnings(\"ignore\") "
      ]
    },
    {
      "cell_type": "code",
      "source": [
        "if cuda.is_available():\n",
        "    device = 'cuda'\n",
        "else:\n",
        "    device = 'cpu'\n",
        "device"
      ],
      "metadata": {
        "colab": {
          "base_uri": "https://localhost:8080/",
          "height": 36
        },
        "id": "zuyg6Yp93LMy",
        "outputId": "bb1a0a38-116e-4e0e-d24d-506dcf98cf0a"
      },
      "execution_count": 2,
      "outputs": [
        {
          "output_type": "execute_result",
          "data": {
            "application/vnd.google.colaboratory.intrinsic+json": {
              "type": "string"
            },
            "text/plain": [
              "'cuda'"
            ]
          },
          "metadata": {},
          "execution_count": 2
        }
      ]
    },
    {
      "cell_type": "code",
      "source": [
        "from google.colab import drive\n",
        "drive.mount('/content/drive')"
      ],
      "metadata": {
        "colab": {
          "base_uri": "https://localhost:8080/"
        },
        "id": "DVJjcDWh3LQ8",
        "outputId": "b78f48c5-e2f4-4f23-d5ce-46a73efdb3e4"
      },
      "execution_count": 3,
      "outputs": [
        {
          "output_type": "stream",
          "name": "stdout",
          "text": [
            "Mounted at /content/drive\n"
          ]
        }
      ]
    },
    {
      "cell_type": "markdown",
      "source": [
        "## Shape Image to a lower size"
      ],
      "metadata": {
        "id": "j5Tl3SLZ3XDv"
      }
    },
    {
      "cell_type": "markdown",
      "source": [
        "### Create path"
      ],
      "metadata": {
        "id": "ehL-Nio23iVQ"
      }
    },
    {
      "cell_type": "code",
      "source": [
        "# 判断文件夹是否存在，不存在就创建\n",
        "def create_dir_not_exist(path):\n",
        "    if not os.path.exists(path):\n",
        "        os.mkdir(path)\n",
        "        print('path created!')\n",
        "    else:\n",
        "        print('path already there!')\n",
        "\n",
        "new_file_path_train_data = '/content/drive/MyDrive/DSBA M2/Deep Learning/DL的kaggle/data/train_images/train_images_resized'\n",
        "new_file_path_train_label = '/content/drive/MyDrive/DSBA M2/Deep Learning/DL的kaggle/data/train_masks/train_masks_resized'\n",
        "\n",
        "create_dir_not_exist(new_file_path_train_data)\n",
        "create_dir_not_exist(new_file_path_train_label)"
      ],
      "metadata": {
        "colab": {
          "base_uri": "https://localhost:8080/"
        },
        "id": "UaUE0Fe13LUl",
        "outputId": "a62a5d29-254b-4ecd-f372-fa3920d295b7"
      },
      "execution_count": 4,
      "outputs": [
        {
          "output_type": "stream",
          "name": "stdout",
          "text": [
            "path already there!\n",
            "path already there!\n"
          ]
        }
      ]
    },
    {
      "cell_type": "markdown",
      "source": [
        "### Resize the image to squared one (use the larger one between width and height to crop the image and resize them to 256*256)"
      ],
      "metadata": {
        "id": "-heU_t9G3lkg"
      }
    },
    {
      "cell_type": "code",
      "source": [
        "# 由于图片不是正方形，所以先把图片做成正方形。这里\n",
        "def Square_Generated_and_saved(read_file, target_file_copy=False, colorful=True, show_image=False, do_it_questionmark=False): # 这个不需要直接传tensor格式！\n",
        "    if do_it_questionmark:\n",
        "    \n",
        "        image = Image.open(read_file)\n",
        "        w, h = image.size\n",
        "        # print(w,h)\n",
        "\n",
        "        if colorful:\n",
        "            new_image = Image.new('RGB', size=(max(w, h), max(w, h)),color= 'white')\n",
        "        else:\n",
        "            new_image = Image.new('L', size=(max(w, h), max(w, h)),color= 'white')\n",
        "\n",
        "        # print(background)\n",
        "        length = int(abs(w - h))\n",
        "        box = (length, 0) if w < h else (0, length)\n",
        "        new_image.paste(image, box)\n",
        "        \n",
        "        new_image=new_image.resize((256,256)) # 这个如果之后太慢的话再加\n",
        "\n",
        "        if target_file_copy:\n",
        "            # 提取文件名字\n",
        "            image_name = read_file.split('/')[-1]\n",
        "            target_file_copy = target_file_copy + '/' + image_name\n",
        "            new_image.save(target_file_copy)\n",
        "\n",
        "        if show_image:\n",
        "            return new_image # 不是tensor格式！需要再用image_to_tensor！\n",
        "        else:\n",
        "            return None\n",
        "    \n",
        "    else:\n",
        "        print('The images in this dir have already been resized and saved!')"
      ],
      "metadata": {
        "id": "iEmlZFhd3LYV"
      },
      "execution_count": 5,
      "outputs": []
    },
    {
      "cell_type": "markdown",
      "source": [
        "### Have a look"
      ],
      "metadata": {
        "id": "Hn7L158D3z8c"
      }
    },
    {
      "cell_type": "code",
      "source": [
        "Square_Generated_and_saved('/content/drive/MyDrive/DSBA M2/Deep Learning/DL的kaggle/data/train_images/train_images/10172.jpg', target_file_copy=new_file_path_train_data, colorful=True, show_image=True, do_it_questionmark=True)"
      ],
      "metadata": {
        "colab": {
          "base_uri": "https://localhost:8080/",
          "height": 273
        },
        "id": "2DAdnpp93Lbn",
        "outputId": "a6d783ae-3ede-41b3-ec1b-73e3bc3e1ae2"
      },
      "execution_count": 11,
      "outputs": [
        {
          "output_type": "execute_result",
          "data": {
            "image/png": "[encoded data removed]",
            "text/plain": [
              "<PIL.Image.Image image mode=RGB size=256x256 at 0x7F5BE6470E50>"
            ]
          },
          "metadata": {},
          "execution_count": 11
        }
      ]
    },
    {
      "cell_type": "code",
      "source": [
        "Square_Generated_and_saved('/content/drive/MyDrive/DSBA M2/Deep Learning/DL的kaggle/data/train_images/train_images/10172.jpg', target_file_copy=new_file_path_train_data, colorful=False, show_image=True, do_it_questionmark=True)"
      ],
      "metadata": {
        "colab": {
          "base_uri": "https://localhost:8080/",
          "height": 273
        },
        "id": "2Hirxou93Le5",
        "outputId": "4e288c1e-e78d-427a-fb43-c1fa3779f2a2"
      },
      "execution_count": 12,
      "outputs": [
        {
          "output_type": "execute_result",
          "data": {
            "image/png": "[encoded data removed]",
            "text/plain": [
              "<PIL.Image.Image image mode=L size=256x256 at 0x7F5BE534DCD0>"
            ]
          },
          "metadata": {},
          "execution_count": 12
        }
      ]
    },
    {
      "cell_type": "code",
      "source": [
        "# Firstly let's reshape every image we have and store them in another file\n",
        "import glob\n",
        "import os\n",
        "from tqdm import tqdm\n",
        "\n",
        "train_data_path = '/content/drive/MyDrive/DSBA M2/Deep Learning/DL的kaggle/data/train_images/train_images'\n",
        "train_mask_path = '/content/drive/MyDrive/DSBA M2/Deep Learning/DL的kaggle/data/train_masks/train_masks'\n",
        "\n",
        "imgs_path = glob.glob(os.path.join(train_data_path, '*.jpg'))\n",
        "mask_path = glob.glob(os.path.join(train_mask_path, '*.png'))\n",
        "\n",
        "for image_file in tqdm(imgs_path):\n",
        "    Square_Generated_and_saved(image_file, new_file_path_train_data, colorful=True, show_image=False, do_it_questionmark=False)\n",
        "for image_file in tqdm(mask_path):\n",
        "    Square_Generated_and_saved(image_file, new_file_path_train_label, colorful=False, show_image=False, do_it_questionmark=False)"
      ],
      "metadata": {
        "id": "JJyGMQzm3Lk-"
      },
      "execution_count": null,
      "outputs": []
    },
    {
      "cell_type": "code",
      "source": [
        ""
      ],
      "metadata": {
        "id": "C5VUibWS3Lny"
      },
      "execution_count": null,
      "outputs": []
    },
    {
      "cell_type": "markdown",
      "source": [
        "## Resize the test image data"
      ],
      "metadata": {
        "id": "8wY2--pn9i_C"
      }
    },
    {
      "cell_type": "code",
      "source": [
        "# 我们得把test image resize成256再说\n",
        "def make_test_image_resized(necessary=False):\n",
        "    if necessary:\n",
        "        create_dir_not_exist('/content/drive/MyDrive/DSBA M2/Deep Learning/DL的kaggle/data/test_images/test_images_resized')\n",
        "        test_data_path = '/content/drive/MyDrive/DSBA M2/Deep Learning/DL的kaggle/data/test_images/test_images_resized'\n",
        "        test_path_for_pred = glob.glob(os.path.join(test_data_path, '*.jpg'))\n",
        "\n",
        "        for test_ in tqdm(test_path):\n",
        "            Square_Generated_and_saved(test_, target_file_copy=test_data_path, colorful=True, show_image=False)\n",
        "    else:\n",
        "        print('Nothing is excecuted since the test images are already resized!')"
      ],
      "metadata": {
        "id": "9iIhYOBy9jPa"
      },
      "execution_count": 6,
      "outputs": []
    },
    {
      "cell_type": "code",
      "source": [
        "# Here if you want to rerun my model, please change this parameter to True and change the dir accordingly!\n",
        "make_test_image_resized(necessary=False)"
      ],
      "metadata": {
        "colab": {
          "base_uri": "https://localhost:8080/"
        },
        "id": "DVkjB1L89p3Y",
        "outputId": "0135b961-7368-4034-af9d-e636e46a87d1"
      },
      "execution_count": 34,
      "outputs": [
        {
          "output_type": "stream",
          "name": "stdout",
          "text": [
            "Nothing is excecuted since the test images are already resized!\n"
          ]
        }
      ]
    },
    {
      "cell_type": "markdown",
      "source": [
        "# Building each layer in the model"
      ],
      "metadata": {
        "id": "kAJLNSM1472o"
      }
    },
    {
      "cell_type": "markdown",
      "source": [
        "## DoubleConv Class"
      ],
      "metadata": {
        "id": "ZvcHAiZC5J87"
      }
    },
    {
      "cell_type": "code",
      "source": [
        "# first model part\n",
        "class DoubleConv(nn.Module):\n",
        "\n",
        "    def __init__(self, in_channels, out_channels):\n",
        "        super().__init__()\n",
        "        self.double_conv = nn.Sequential(\n",
        "            nn.Conv2d(in_channels, out_channels, kernel_size=3, padding=1), # 这里我们让padding=1，也就是图片大小不变\n",
        "            nn.BatchNorm2d(out_channels),\n",
        "            nn.ReLU(inplace=True),\n",
        "            nn.Conv2d(out_channels, out_channels, kernel_size=3, padding=1),\n",
        "            nn.BatchNorm2d(out_channels),\n",
        "            nn.ReLU(inplace=True)\n",
        "        )\n",
        "        \n",
        "    def forward(self, x):\n",
        "        return self.double_conv(x)"
      ],
      "metadata": {
        "id": "Bs3Ltx2J3Lql"
      },
      "execution_count": 7,
      "outputs": []
    },
    {
      "cell_type": "markdown",
      "source": [
        "## Down Class"
      ],
      "metadata": {
        "id": "y-rvUojd5M7D"
      }
    },
    {
      "cell_type": "code",
      "source": [
        "class Down(nn.Module):\n",
        " \n",
        "    def __init__(self, in_channels, out_channels):\n",
        "        super().__init__()\n",
        "        self.maxpool_conv = nn.Sequential(\n",
        "            nn.MaxPool2d(2),                            # 等于每次图片缩小一半\n",
        "            DoubleConv(in_channels, out_channels)\n",
        "        )\n",
        " \n",
        "    def forward(self, x):\n",
        "        return self.maxpool_conv(x)"
      ],
      "metadata": {
        "id": "hdgs8H2f5Hw5"
      },
      "execution_count": 8,
      "outputs": []
    },
    {
      "cell_type": "markdown",
      "source": [
        "## Up Class"
      ],
      "metadata": {
        "id": "yl4QuQM65PoD"
      }
    },
    {
      "cell_type": "code",
      "source": [
        "class Up(nn.Module):\n",
        " \n",
        "    def __init__(self, in_channels, out_channels, bilinear=True):\n",
        "        super().__init__()\n",
        " \n",
        "        # if bilinear, use the normal convolutions to reduce the number of channels\n",
        "        if bilinear:\n",
        "            self.up = nn.Upsample(scale_factor=2, mode='bilinear', align_corners=True)\n",
        "        else:\n",
        "            self.up = nn.ConvTranspose2d(in_channels, in_channels // 2, kernel_size=2, stride=2) # 这里我们让第一个参数依然除以2也就是图片大小不变\n",
        " \n",
        "        self.conv = DoubleConv(in_channels, out_channels)\n",
        " \n",
        "    def forward(self, x1, x2):\n",
        "        x1 = self.up(x1)\n",
        "        # input is CHW\n",
        "        diffY = torch.tensor([x2.size()[2] - x1.size()[2]])\n",
        "        diffX = torch.tensor([x2.size()[3] - x1.size()[3]])\n",
        " \n",
        "        x1 = F.pad(x1, [diffX // 2, diffX - diffX // 2,\n",
        "                        diffY // 2, diffY - diffY // 2])\n",
        "        # if you have padding issues, see\n",
        "        # https://github.com/HaiyongJiang/U-Net-Pytorch-Unstructured-Buggy/commit/0e854509c2cea854e247a9c615f175f76fbb2e3a\n",
        "        # https://github.com/xiaopeng-liao/Pytorch-UNet/commit/8ebac70e633bac59fc22bb5195e513d5832fb3bd\n",
        "        \n",
        "        x = torch.cat([x2, x1], dim=1)\n",
        "        return self.conv(x)"
      ],
      "metadata": {
        "id": "Is271AU55H09"
      },
      "execution_count": 9,
      "outputs": []
    },
    {
      "cell_type": "markdown",
      "source": [
        "## OutConv Class\n"
      ],
      "metadata": {
        "id": "1NoyGsSr5UHM"
      }
    },
    {
      "cell_type": "code",
      "source": [
        "class OutConv(nn.Module):\n",
        "    def __init__(self, in_channels, out_channels):\n",
        "        super(OutConv, self).__init__()\n",
        "        self.conv = nn.Conv2d(in_channels, out_channels, kernel_size=1)\n",
        " \n",
        "    def forward(self, x):\n",
        "        return self.conv(x)"
      ],
      "metadata": {
        "id": "e92Wet6q5H4C"
      },
      "execution_count": 10,
      "outputs": []
    },
    {
      "cell_type": "markdown",
      "source": [
        "# Define Dice Loss"
      ],
      "metadata": {
        "id": "46s_o9DS5Wxj"
      }
    },
    {
      "cell_type": "code",
      "source": [
        "class DiceLoss(nn.Module):\n",
        "    def __init__(self, weight=None, size_average=True):\n",
        "        super(DiceLoss, self).__init__()\n",
        "\n",
        "    def forward(self, inputs, targets, smooth=1):\n",
        "        \n",
        "        #comment out if your model contains a sigmoid or equivalent activation layer\n",
        "        inputs = F.sigmoid(inputs)       \n",
        "        \n",
        "        #flatten label and prediction tensors\n",
        "        inputs = inputs.view(-1)\n",
        "        targets = targets.view(-1)\n",
        "        \n",
        "        intersection = (inputs * targets).sum()                            \n",
        "        dice = (2.*intersection + smooth)/(inputs.sum() + targets.sum() + smooth)  \n",
        "        \n",
        "        return 1 - dice"
      ],
      "metadata": {
        "id": "qi8JWDIC5H7A"
      },
      "execution_count": 11,
      "outputs": []
    },
    {
      "cell_type": "markdown",
      "source": [
        "# Prepare DataLoader"
      ],
      "metadata": {
        "id": "00OMl7an5-6j"
      }
    },
    {
      "cell_type": "code",
      "source": [
        "class ISBI_Loader(Dataset):\n",
        "    def __init__(self, train_data_path, train_mask_path):\n",
        "        # 初始化函数，读取所有data_path下的图片\n",
        "        self.train_data_path = train_data_path\n",
        "        self.train_mask_path = train_mask_path\n",
        "        self.imgs_path = glob.glob(os.path.join(train_data_path, '*.jpg'))\n",
        "        self.mask_path = glob.glob(os.path.join(train_mask_path, '*.png'))\n",
        "        \n",
        "    def augment(self, image, flipCode):\n",
        "        # 使用cv2.flip进行数据增强，filpCode为1水平翻转，0垂直翻转，-1水平+垂直翻转\n",
        "        flip = cv2.flip(image, flipCode)\n",
        "        return flip\n",
        "        \n",
        "    def __getitem__(self, index):\n",
        "        # 根据index读取图片\n",
        "        data_path = self.imgs_path[index]\n",
        "        mask_path = self.mask_path[index]\n",
        "        \n",
        "        # 读取训练图片和标签图片\n",
        "        image = cv2.imread(data_path)\n",
        "        label = cv2.imread(mask_path, 0) # use 0 to set the image into grey mode\n",
        "\n",
        "        # 这里必须处理一下，一定要Normalize到0-1之间\n",
        "        # print(label.max())\n",
        "        if label.max() > 1:\n",
        "            label = label / 255\n",
        "        if image.max() > 1:\n",
        "            image = image / 255\n",
        "            \n",
        "        # 随机进行数据增强，为2时不做处理\n",
        "        flipCode = random.choice([-1, 0, 1, 2])\n",
        "        if flipCode != 2:\n",
        "            image = self.augment(image, flipCode)\n",
        "            label = self.augment(label, flipCode)\n",
        "            \n",
        "        # 这里需要处理一下数据，把每个图片的feature数量放到第一位\n",
        "        image = torch.tensor(image)\n",
        "        image = image.permute(2, 0, 1)\n",
        "        label = torch.tensor(label)\n",
        "        # label = label.unsqueeze(0)\n",
        "        # print(label.shape)\n",
        "        # label = label.permute(2, 0, 1)\n",
        "                \n",
        "        return image.numpy(), label.numpy()\n",
        " \n",
        "    def __len__(self):\n",
        "        # 返回训练集大小\n",
        "        return len(self.imgs_path)\n",
        "\n",
        "\n",
        "# 这里由于图片大小不一样，为了test模型，我们先把batch_size设定为1，之后如果可以运行再设定为2或以上\n",
        "if __name__ == \"__main__\":\n",
        "    isbi_dataset = ISBI_Loader('/content/drive/MyDrive/DSBA M2/Deep Learning/DL的kaggle/data/train_images/train_images', '/content/drive/MyDrive/DSBA M2/Deep Learning/DL的kaggle/data/train_masks/train_masks')\n",
        "    print(\"数据个数：\", len(isbi_dataset))\n",
        "    train_loader = torch.utils.data.DataLoader(dataset=isbi_dataset,\n",
        "                                               batch_size=1, \n",
        "                                               shuffle=True)"
      ],
      "metadata": {
        "colab": {
          "base_uri": "https://localhost:8080/"
        },
        "id": "u8uOEZBz5H-F",
        "outputId": "d0aefa4b-f373-48ac-f578-6944e164e687"
      },
      "execution_count": 12,
      "outputs": [
        {
          "output_type": "stream",
          "name": "stdout",
          "text": [
            "数据个数： 261\n"
          ]
        }
      ]
    },
    {
      "cell_type": "markdown",
      "source": [
        "# Model Building"
      ],
      "metadata": {
        "id": "UgSRGRiA5cCM"
      }
    },
    {
      "cell_type": "code",
      "source": [
        "# Check GPU condition\n",
        "if device == 'cuda':\n",
        "    print(torch.cuda.get_device_name(0))\n",
        "    print('Memory Usage:')\n",
        "    print('Allocated:', round(torch.cuda.memory_allocated(0)/1024**3,1), 'GB')\n",
        "    print('Cached:   ', round(torch.cuda.memory_cached(0)/1024**3,1), 'GB')\n",
        "    \n",
        "    # Clear GPU\n",
        "    torch.cuda.empty_cache()"
      ],
      "metadata": {
        "colab": {
          "base_uri": "https://localhost:8080/"
        },
        "id": "h40yqiLs5IBH",
        "outputId": "7b3e8aab-91d2-48a8-9bcb-ba1084bff09d"
      },
      "execution_count": 13,
      "outputs": [
        {
          "output_type": "stream",
          "name": "stdout",
          "text": [
            "Tesla P100-PCIE-16GB\n",
            "Memory Usage:\n",
            "Allocated: 0.0 GB\n",
            "Cached:    0.0 GB\n"
          ]
        }
      ]
    },
    {
      "cell_type": "code",
      "source": [
        "class UNet(nn.Module):\n",
        "    def __init__(self, n_channels, n_classes, bilinear=False):\n",
        "        super(UNet, self).__init__()\n",
        "        self.n_channels = n_channels\n",
        "        self.n_classes = n_classes\n",
        "        self.bilinear = bilinear\n",
        "\n",
        "        self.inc = DoubleConv(n_channels, 64)\n",
        "\n",
        "        self.down1 = Down(64, 128)\n",
        "        self.down2 = Down(128, 256)\n",
        "        self.down3 = Down(256, 512)\n",
        "        self.down4 = Down(512, 1024)\n",
        "        self.up1 = Up(1024, 512, bilinear)\n",
        "        self.up2 = Up(512, 256, bilinear)\n",
        "        self.up3 = Up(256, 128, bilinear)\n",
        "        self.up4 = Up(128, 64, bilinear)\n",
        "        self.outc = OutConv(64, n_classes)\n",
        "\n",
        "    def forward(self, x):\n",
        "\n",
        "        x1 = self.inc(x)\n",
        "\n",
        "        x2 = self.down1(x1)\n",
        "        x3 = self.down2(x2)\n",
        "        x4 = self.down3(x3)\n",
        "        x5 = self.down4(x4)\n",
        "\n",
        "        x = self.up1(x5, x4)\n",
        "        x = self.up2(x, x3)\n",
        "        x = self.up3(x, x2)\n",
        "        x = self.up4(x, x1)\n",
        "        logits = self.outc(x)\n",
        "        return logits"
      ],
      "metadata": {
        "id": "B9QjXAx_5ID4"
      },
      "execution_count": 14,
      "outputs": []
    },
    {
      "cell_type": "code",
      "source": [
        "# Check shape\n",
        "image = cv2.imread('/content/drive/MyDrive/DSBA M2/Deep Learning/DL的kaggle/data/test_images/test_images/10170.jpg')\n",
        "image = torch.tensor(image)\n",
        "print(image.permute(2, 0, 1).shape)\n",
        "image.permute(2, 0, 1).unsqueeze(0).shape"
      ],
      "metadata": {
        "colab": {
          "base_uri": "https://localhost:8080/"
        },
        "id": "Yp2W-NzH5IGt",
        "outputId": "1dd88334-db13-43e6-ef34-8ffdf88fea1e"
      },
      "execution_count": 15,
      "outputs": [
        {
          "output_type": "stream",
          "name": "stdout",
          "text": [
            "torch.Size([3, 4000, 3000])\n"
          ]
        },
        {
          "output_type": "execute_result",
          "data": {
            "text/plain": [
              "torch.Size([1, 3, 4000, 3000])"
            ]
          },
          "metadata": {},
          "execution_count": 15
        }
      ]
    },
    {
      "cell_type": "code",
      "source": [
        "# Check shape again\n",
        "image = cv2.imread('/content/drive/MyDrive/DSBA M2/Deep Learning/DL的kaggle/data/train_images/train_images_resized/10172.jpg')\n",
        "image = torch.tensor(image)\n",
        "image.permute(2, 0, 1).size()"
      ],
      "metadata": {
        "colab": {
          "base_uri": "https://localhost:8080/"
        },
        "id": "nNiXbpUz6NsC",
        "outputId": "623e72cc-f55d-4631-f049-ee136826e2f7"
      },
      "execution_count": 16,
      "outputs": [
        {
          "output_type": "execute_result",
          "data": {
            "text/plain": [
              "torch.Size([3, 256, 256])"
            ]
          },
          "metadata": {},
          "execution_count": 16
        }
      ]
    },
    {
      "cell_type": "code",
      "source": [
        ""
      ],
      "metadata": {
        "id": "zgOzzRr26NwD"
      },
      "execution_count": null,
      "outputs": []
    },
    {
      "cell_type": "markdown",
      "source": [
        "# Write the training function"
      ],
      "metadata": {
        "id": "UJBwwNP36YLN"
      }
    },
    {
      "cell_type": "code",
      "source": [
        "def train_net(net, device, train_data_path, train_mask_path, model_save_file_name=True, model_name=True, mean_loss_file_name=True, loss_name=True, epochs=200, batch_size=4, lr=0.00001):\n",
        "    # 加载训练集\n",
        "    isbi_dataset = ISBI_Loader(train_data_path, train_mask_path)\n",
        "    train_loader = torch.utils.data.DataLoader(dataset=isbi_dataset,\n",
        "                                               batch_size=batch_size, \n",
        "                                               shuffle=True)\n",
        "    # 定义RMSprop算法\n",
        "    optimizer = optim.RMSprop(net.parameters(), lr=lr, weight_decay=1e-8, momentum=0.9)\n",
        "\n",
        "    # 定义Loss算法\n",
        "    criterion = nn.CrossEntropyLoss()\n",
        "    \n",
        "    # Here we don't first use Dice Loss, we have a try on other's loss\n",
        "    # 这里先不用optim.Adam(net.parameters(), lr=0.00001)\n",
        "    \n",
        "    # best_loss统计，初始化为正无穷\n",
        "    # best_loss = float('inf')\n",
        "\n",
        "    train_data_mean_loss = []\n",
        "    device = 'cuda'\n",
        "    for epoch in range(epochs):\n",
        "        net.train()\n",
        "        print('Epoch ', epoch, 'starts!')\n",
        "        # 仅用来记录每一次的loss，最后求平均放到train_data_mean_loss中\n",
        "        train_data_loss_each_epoch = []\n",
        "\n",
        "        for image, label in tqdm(train_loader):\n",
        "            optimizer.zero_grad()\n",
        "\n",
        "            image = image.to(device=device, dtype=torch.float32)\n",
        "            label = label.to(device=device, dtype=torch.float32)\n",
        "\n",
        "            pred = net(image)\n",
        "\n",
        "            label = label.type(torch.LongTensor)\n",
        "\n",
        "            pred = pred.to(device)\n",
        "            label = label.to(device)  # 这个不知道为什么不加这一句的话直接会用cpu来跑\n",
        "\n",
        "            loss = criterion(pred, label)\n",
        "            train_data_loss_each_epoch.append(loss.item())\n",
        "\n",
        "            # 保存loss值最小的网络参数\n",
        "            # if loss < best_loss:\n",
        "            #     best_loss = loss\n",
        "            #     torch.save(net.state_dict(), 'best_model.pth')\n",
        "            loss.backward()\n",
        "            optimizer.step()\n",
        "\n",
        "        train_data_mean_loss.append(np.mean(train_data_loss_each_epoch))\n",
        "    \n",
        "    # -----------------Model Save-----------------\n",
        "    create_dir_not_exist(model_save_file_name)\n",
        "    final_name_for_model = model_save_file_name + '/' + model_name\n",
        "    torch.save(net.state_dict(), final_name_for_model)\n",
        "    print('model saved successfully!')\n",
        "\n",
        "    # -----------------Loss List Save-----------------------\n",
        "    create_dir_not_exist(mean_loss_file_name)\n",
        "    train_data_mean_loss = np.array(train_data_mean_loss)\n",
        "    final_name_for_loss = mean_loss_file_name + '/' + loss_name\n",
        "    np.save(final_name_for_loss, train_data_mean_loss)\n",
        "    print('mean loss saved successfully!')\n"
      ],
      "metadata": {
        "id": "_o7z82jp6Nzh"
      },
      "execution_count": 17,
      "outputs": []
    },
    {
      "cell_type": "code",
      "source": [
        ""
      ],
      "metadata": {
        "id": "ICX47ifg6N20"
      },
      "execution_count": null,
      "outputs": []
    },
    {
      "cell_type": "markdown",
      "source": [
        "# Try first time training with epoch=4, batch_size=2"
      ],
      "metadata": {
        "id": "JRhVFFOI64OR"
      }
    },
    {
      "cell_type": "code",
      "source": [
        "if __name__ == \"__main__\":\n",
        "    device = torch.device('cuda' if torch.cuda.is_available() else 'cpu')\n",
        "    train_data_path = '/content/drive/MyDrive/DSBA M2/Deep Learning/DL的kaggle/data/train_images/train_images_resized'\n",
        "    train_mask_path = '/content/drive/MyDrive/DSBA M2/Deep Learning/DL的kaggle/data/train_masks/train_masks_resized'\n",
        "    model_save_file_name = '/content/drive/MyDrive/DSBA M2/Deep Learning/DL的kaggle/data/saved_model_and_loss'\n",
        "    model_name = 'Model_256_epochs5_batch_size2_lr000001_Jan17_for_report.pt'\n",
        "    mean_loss_file_name = model_save_file_name\n",
        "    loss_name = 'Mean_loss_256_epochs5_batch_size2_lr000001_Jan17_for_report.npy'\n",
        "\n",
        "    net = UNet(n_channels=3, n_classes=25)\n",
        "    net.to(device='cuda')\n",
        "    train_net(net,\n",
        "              device, \n",
        "              train_data_path=train_data_path, \n",
        "              train_mask_path=train_mask_path, \n",
        "              model_save_file_name=model_save_file_name, \n",
        "              model_name=model_name, \n",
        "              mean_loss_file_name=mean_loss_file_name, \n",
        "              loss_name=loss_name, \n",
        "              epochs=4, \n",
        "              batch_size=10, \n",
        "              lr=0.00001)"
      ],
      "metadata": {
        "colab": {
          "base_uri": "https://localhost:8080/"
        },
        "id": "OQ70avNc62LQ",
        "outputId": "ec108686-77b6-41aa-c6c3-ab086b0e28ef"
      },
      "execution_count": 21,
      "outputs": [
        {
          "output_type": "stream",
          "name": "stdout",
          "text": [
            "Epoch  0 starts!\n"
          ]
        },
        {
          "output_type": "stream",
          "name": "stderr",
          "text": [
            "100%|██████████| 27/27 [01:20<00:00,  2.97s/it]\n"
          ]
        },
        {
          "output_type": "stream",
          "name": "stdout",
          "text": [
            "Epoch  1 starts!\n"
          ]
        },
        {
          "output_type": "stream",
          "name": "stderr",
          "text": [
            "100%|██████████| 27/27 [00:10<00:00,  2.59it/s]\n"
          ]
        },
        {
          "output_type": "stream",
          "name": "stdout",
          "text": [
            "Epoch  2 starts!\n"
          ]
        },
        {
          "output_type": "stream",
          "name": "stderr",
          "text": [
            "100%|██████████| 27/27 [00:10<00:00,  2.58it/s]\n"
          ]
        },
        {
          "output_type": "stream",
          "name": "stdout",
          "text": [
            "Epoch  3 starts!\n"
          ]
        },
        {
          "output_type": "stream",
          "name": "stderr",
          "text": [
            "100%|██████████| 27/27 [00:10<00:00,  2.58it/s]\n"
          ]
        },
        {
          "output_type": "stream",
          "name": "stdout",
          "text": [
            "path already there!\n",
            "model saved successfully!\n",
            "path already there!\n",
            "mean loss saved successfully!\n"
          ]
        }
      ]
    },
    {
      "cell_type": "markdown",
      "source": [
        "## See the loss function value trend of this model"
      ],
      "metadata": {
        "id": "ax4oCr2p7egV"
      }
    },
    {
      "cell_type": "code",
      "source": [
        "# 现在读取一下刚跑完的模型的loss看看图像如何\n",
        "model_save_file_name = '/content/drive/MyDrive/DSBA M2/Deep Learning/DL的kaggle/data/saved_model_and_loss'\n",
        "loss_name = 'Mean_loss_256_epochs5_batch_size2_lr000001_Jan17_for_report.npy'\n",
        "epoch_train_loss_filename = model_save_file_name + '/' + loss_name\n",
        "\n",
        "train_data_mean_loss = np.load(epoch_train_loss_filename)\n",
        "plt.plot(train_data_mean_loss, label ='Train Loss')\n",
        "plt.xlabel(\"Epochs\")\n",
        "plt.ylabel(\"Loss Value\")\n",
        "plt.show()"
      ],
      "metadata": {
        "colab": {
          "base_uri": "https://localhost:8080/",
          "height": 279
        },
        "id": "8t5_9fr862SB",
        "outputId": "3e5f3c82-f083-4d7b-c78d-e045d0ee56d4"
      },
      "execution_count": 22,
      "outputs": [
        {
          "output_type": "display_data",
          "data": {
            "image/png": "[encoded data removed]",
            "text/plain": [
              "<Figure size 432x288 with 1 Axes>"
            ]
          },
          "metadata": {
            "needs_background": "light"
          }
        }
      ]
    },
    {
      "cell_type": "markdown",
      "source": [
        "Seems the model is training indeed, now let's change epochs to find the best point."
      ],
      "metadata": {
        "id": "mM9AfAnn70zJ"
      }
    },
    {
      "cell_type": "markdown",
      "source": [
        "## Train another time, select epochs = 50, and batch_size = 4"
      ],
      "metadata": {
        "id": "WZuHY8Sf78eu"
      }
    },
    {
      "cell_type": "code",
      "source": [
        "device = torch.device('cuda' if torch.cuda.is_available() else 'cpu')\n",
        "train_data_path = '/content/drive/MyDrive/DSBA M2/Deep Learning/DL的kaggle/data/train_images/train_images_resized'\n",
        "train_mask_path = '/content/drive/MyDrive/DSBA M2/Deep Learning/DL的kaggle/data/train_masks/train_masks_resized'\n",
        "model_save_file_name = '/content/drive/MyDrive/DSBA M2/Deep Learning/DL的kaggle/data/saved_model_and_loss'\n",
        "model_name = 'Model_256_epochs50_batch_size4_lr000001_Jan17_for_report.pt'\n",
        "mean_loss_file_name = model_save_file_name\n",
        "loss_name = 'Mean_loss_256_epochs50_batch_size4_lr000001_Jan17_for_report.npy'\n",
        "\n",
        "net = UNet(n_channels=3, n_classes=25)\n",
        "net.to(device=device)\n",
        "train_net(net,\n",
        "          device, \n",
        "          train_data_path=train_data_path, \n",
        "          train_mask_path=train_mask_path, \n",
        "          model_save_file_name=model_save_file_name, \n",
        "          model_name=model_name, \n",
        "          mean_loss_file_name=mean_loss_file_name, \n",
        "          loss_name=loss_name, \n",
        "          epochs=50, \n",
        "          batch_size=4, \n",
        "          lr=0.0001)"
      ],
      "metadata": {
        "colab": {
          "base_uri": "https://localhost:8080/"
        },
        "id": "KSyIXnfv70RT",
        "outputId": "5ff06edd-aca2-4bb9-ce95-d6477ac6c175"
      },
      "execution_count": 24,
      "outputs": [
        {
          "output_type": "stream",
          "name": "stdout",
          "text": [
            "Epoch  0 starts!\n"
          ]
        },
        {
          "output_type": "stream",
          "name": "stderr",
          "text": [
            "100%|██████████| 66/66 [00:10<00:00,  6.49it/s]\n"
          ]
        },
        {
          "output_type": "stream",
          "name": "stdout",
          "text": [
            "Epoch  1 starts!\n"
          ]
        },
        {
          "output_type": "stream",
          "name": "stderr",
          "text": [
            "100%|██████████| 66/66 [00:10<00:00,  6.52it/s]\n"
          ]
        },
        {
          "output_type": "stream",
          "name": "stdout",
          "text": [
            "Epoch  2 starts!\n"
          ]
        },
        {
          "output_type": "stream",
          "name": "stderr",
          "text": [
            "100%|██████████| 66/66 [00:10<00:00,  6.52it/s]\n"
          ]
        },
        {
          "output_type": "stream",
          "name": "stdout",
          "text": [
            "Epoch  3 starts!\n"
          ]
        },
        {
          "output_type": "stream",
          "name": "stderr",
          "text": [
            "100%|██████████| 66/66 [00:10<00:00,  6.52it/s]\n"
          ]
        },
        {
          "output_type": "stream",
          "name": "stdout",
          "text": [
            "Epoch  4 starts!\n"
          ]
        },
        {
          "output_type": "stream",
          "name": "stderr",
          "text": [
            "100%|██████████| 66/66 [00:10<00:00,  6.53it/s]\n"
          ]
        },
        {
          "output_type": "stream",
          "name": "stdout",
          "text": [
            "Epoch  5 starts!\n"
          ]
        },
        {
          "output_type": "stream",
          "name": "stderr",
          "text": [
            "100%|██████████| 66/66 [00:10<00:00,  6.52it/s]\n"
          ]
        },
        {
          "output_type": "stream",
          "name": "stdout",
          "text": [
            "Epoch  6 starts!\n"
          ]
        },
        {
          "output_type": "stream",
          "name": "stderr",
          "text": [
            "100%|██████████| 66/66 [00:10<00:00,  6.52it/s]\n"
          ]
        },
        {
          "output_type": "stream",
          "name": "stdout",
          "text": [
            "Epoch  7 starts!\n"
          ]
        },
        {
          "output_type": "stream",
          "name": "stderr",
          "text": [
            "100%|██████████| 66/66 [00:10<00:00,  6.52it/s]\n"
          ]
        },
        {
          "output_type": "stream",
          "name": "stdout",
          "text": [
            "Epoch  8 starts!\n"
          ]
        },
        {
          "output_type": "stream",
          "name": "stderr",
          "text": [
            "100%|██████████| 66/66 [00:10<00:00,  6.52it/s]\n"
          ]
        },
        {
          "output_type": "stream",
          "name": "stdout",
          "text": [
            "Epoch  9 starts!\n"
          ]
        },
        {
          "output_type": "stream",
          "name": "stderr",
          "text": [
            "100%|██████████| 66/66 [00:10<00:00,  6.52it/s]\n"
          ]
        },
        {
          "output_type": "stream",
          "name": "stdout",
          "text": [
            "Epoch  10 starts!\n"
          ]
        },
        {
          "output_type": "stream",
          "name": "stderr",
          "text": [
            "100%|██████████| 66/66 [00:10<00:00,  6.52it/s]\n"
          ]
        },
        {
          "output_type": "stream",
          "name": "stdout",
          "text": [
            "Epoch  11 starts!\n"
          ]
        },
        {
          "output_type": "stream",
          "name": "stderr",
          "text": [
            "100%|██████████| 66/66 [00:10<00:00,  6.52it/s]\n"
          ]
        },
        {
          "output_type": "stream",
          "name": "stdout",
          "text": [
            "Epoch  12 starts!\n"
          ]
        },
        {
          "output_type": "stream",
          "name": "stderr",
          "text": [
            "100%|██████████| 66/66 [00:10<00:00,  6.52it/s]\n"
          ]
        },
        {
          "output_type": "stream",
          "name": "stdout",
          "text": [
            "Epoch  13 starts!\n"
          ]
        },
        {
          "output_type": "stream",
          "name": "stderr",
          "text": [
            "100%|██████████| 66/66 [00:10<00:00,  6.52it/s]\n"
          ]
        },
        {
          "output_type": "stream",
          "name": "stdout",
          "text": [
            "Epoch  14 starts!\n"
          ]
        },
        {
          "output_type": "stream",
          "name": "stderr",
          "text": [
            "100%|██████████| 66/66 [00:10<00:00,  6.52it/s]\n"
          ]
        },
        {
          "output_type": "stream",
          "name": "stdout",
          "text": [
            "Epoch  15 starts!\n"
          ]
        },
        {
          "output_type": "stream",
          "name": "stderr",
          "text": [
            "100%|██████████| 66/66 [00:10<00:00,  6.52it/s]\n"
          ]
        },
        {
          "output_type": "stream",
          "name": "stdout",
          "text": [
            "Epoch  16 starts!\n"
          ]
        },
        {
          "output_type": "stream",
          "name": "stderr",
          "text": [
            "100%|██████████| 66/66 [00:10<00:00,  6.53it/s]\n"
          ]
        },
        {
          "output_type": "stream",
          "name": "stdout",
          "text": [
            "Epoch  17 starts!\n"
          ]
        },
        {
          "output_type": "stream",
          "name": "stderr",
          "text": [
            "100%|██████████| 66/66 [00:10<00:00,  6.52it/s]\n"
          ]
        },
        {
          "output_type": "stream",
          "name": "stdout",
          "text": [
            "Epoch  18 starts!\n"
          ]
        },
        {
          "output_type": "stream",
          "name": "stderr",
          "text": [
            "100%|██████████| 66/66 [00:10<00:00,  6.52it/s]\n"
          ]
        },
        {
          "output_type": "stream",
          "name": "stdout",
          "text": [
            "Epoch  19 starts!\n"
          ]
        },
        {
          "output_type": "stream",
          "name": "stderr",
          "text": [
            "100%|██████████| 66/66 [00:10<00:00,  6.52it/s]\n"
          ]
        },
        {
          "output_type": "stream",
          "name": "stdout",
          "text": [
            "Epoch  20 starts!\n"
          ]
        },
        {
          "output_type": "stream",
          "name": "stderr",
          "text": [
            "100%|██████████| 66/66 [00:10<00:00,  6.52it/s]\n"
          ]
        },
        {
          "output_type": "stream",
          "name": "stdout",
          "text": [
            "Epoch  21 starts!\n"
          ]
        },
        {
          "output_type": "stream",
          "name": "stderr",
          "text": [
            "100%|██████████| 66/66 [00:10<00:00,  6.52it/s]\n"
          ]
        },
        {
          "output_type": "stream",
          "name": "stdout",
          "text": [
            "Epoch  22 starts!\n"
          ]
        },
        {
          "output_type": "stream",
          "name": "stderr",
          "text": [
            "100%|██████████| 66/66 [00:10<00:00,  6.51it/s]\n"
          ]
        },
        {
          "output_type": "stream",
          "name": "stdout",
          "text": [
            "Epoch  23 starts!\n"
          ]
        },
        {
          "output_type": "stream",
          "name": "stderr",
          "text": [
            "100%|██████████| 66/66 [00:10<00:00,  6.52it/s]\n"
          ]
        },
        {
          "output_type": "stream",
          "name": "stdout",
          "text": [
            "Epoch  24 starts!\n"
          ]
        },
        {
          "output_type": "stream",
          "name": "stderr",
          "text": [
            "100%|██████████| 66/66 [00:10<00:00,  6.51it/s]\n"
          ]
        },
        {
          "output_type": "stream",
          "name": "stdout",
          "text": [
            "Epoch  25 starts!\n"
          ]
        },
        {
          "output_type": "stream",
          "name": "stderr",
          "text": [
            "100%|██████████| 66/66 [00:10<00:00,  6.51it/s]\n"
          ]
        },
        {
          "output_type": "stream",
          "name": "stdout",
          "text": [
            "Epoch  26 starts!\n"
          ]
        },
        {
          "output_type": "stream",
          "name": "stderr",
          "text": [
            "100%|██████████| 66/66 [00:10<00:00,  6.52it/s]\n"
          ]
        },
        {
          "output_type": "stream",
          "name": "stdout",
          "text": [
            "Epoch  27 starts!\n"
          ]
        },
        {
          "output_type": "stream",
          "name": "stderr",
          "text": [
            "100%|██████████| 66/66 [00:10<00:00,  6.52it/s]\n"
          ]
        },
        {
          "output_type": "stream",
          "name": "stdout",
          "text": [
            "Epoch  28 starts!\n"
          ]
        },
        {
          "output_type": "stream",
          "name": "stderr",
          "text": [
            "100%|██████████| 66/66 [00:10<00:00,  6.53it/s]\n"
          ]
        },
        {
          "output_type": "stream",
          "name": "stdout",
          "text": [
            "Epoch  29 starts!\n"
          ]
        },
        {
          "output_type": "stream",
          "name": "stderr",
          "text": [
            "100%|██████████| 66/66 [00:10<00:00,  6.52it/s]\n"
          ]
        },
        {
          "output_type": "stream",
          "name": "stdout",
          "text": [
            "Epoch  30 starts!\n"
          ]
        },
        {
          "output_type": "stream",
          "name": "stderr",
          "text": [
            "100%|██████████| 66/66 [00:10<00:00,  6.52it/s]\n"
          ]
        },
        {
          "output_type": "stream",
          "name": "stdout",
          "text": [
            "Epoch  31 starts!\n"
          ]
        },
        {
          "output_type": "stream",
          "name": "stderr",
          "text": [
            "100%|██████████| 66/66 [00:10<00:00,  6.53it/s]\n"
          ]
        },
        {
          "output_type": "stream",
          "name": "stdout",
          "text": [
            "Epoch  32 starts!\n"
          ]
        },
        {
          "output_type": "stream",
          "name": "stderr",
          "text": [
            "100%|██████████| 66/66 [00:10<00:00,  6.53it/s]\n"
          ]
        },
        {
          "output_type": "stream",
          "name": "stdout",
          "text": [
            "Epoch  33 starts!\n"
          ]
        },
        {
          "output_type": "stream",
          "name": "stderr",
          "text": [
            "100%|██████████| 66/66 [00:10<00:00,  6.53it/s]\n"
          ]
        },
        {
          "output_type": "stream",
          "name": "stdout",
          "text": [
            "Epoch  34 starts!\n"
          ]
        },
        {
          "output_type": "stream",
          "name": "stderr",
          "text": [
            "100%|██████████| 66/66 [00:10<00:00,  6.53it/s]\n"
          ]
        },
        {
          "output_type": "stream",
          "name": "stdout",
          "text": [
            "Epoch  35 starts!\n"
          ]
        },
        {
          "output_type": "stream",
          "name": "stderr",
          "text": [
            "100%|██████████| 66/66 [00:10<00:00,  6.53it/s]\n"
          ]
        },
        {
          "output_type": "stream",
          "name": "stdout",
          "text": [
            "Epoch  36 starts!\n"
          ]
        },
        {
          "output_type": "stream",
          "name": "stderr",
          "text": [
            "100%|██████████| 66/66 [00:10<00:00,  6.53it/s]\n"
          ]
        },
        {
          "output_type": "stream",
          "name": "stdout",
          "text": [
            "Epoch  37 starts!\n"
          ]
        },
        {
          "output_type": "stream",
          "name": "stderr",
          "text": [
            "100%|██████████| 66/66 [00:10<00:00,  6.53it/s]\n"
          ]
        },
        {
          "output_type": "stream",
          "name": "stdout",
          "text": [
            "Epoch  38 starts!\n"
          ]
        },
        {
          "output_type": "stream",
          "name": "stderr",
          "text": [
            "100%|██████████| 66/66 [00:10<00:00,  6.53it/s]\n"
          ]
        },
        {
          "output_type": "stream",
          "name": "stdout",
          "text": [
            "Epoch  39 starts!\n"
          ]
        },
        {
          "output_type": "stream",
          "name": "stderr",
          "text": [
            "100%|██████████| 66/66 [00:10<00:00,  6.47it/s]\n"
          ]
        },
        {
          "output_type": "stream",
          "name": "stdout",
          "text": [
            "Epoch  40 starts!\n"
          ]
        },
        {
          "output_type": "stream",
          "name": "stderr",
          "text": [
            "100%|██████████| 66/66 [00:10<00:00,  6.52it/s]\n"
          ]
        },
        {
          "output_type": "stream",
          "name": "stdout",
          "text": [
            "Epoch  41 starts!\n"
          ]
        },
        {
          "output_type": "stream",
          "name": "stderr",
          "text": [
            "100%|██████████| 66/66 [00:10<00:00,  6.53it/s]\n"
          ]
        },
        {
          "output_type": "stream",
          "name": "stdout",
          "text": [
            "Epoch  42 starts!\n"
          ]
        },
        {
          "output_type": "stream",
          "name": "stderr",
          "text": [
            "100%|██████████| 66/66 [00:10<00:00,  6.52it/s]\n"
          ]
        },
        {
          "output_type": "stream",
          "name": "stdout",
          "text": [
            "Epoch  43 starts!\n"
          ]
        },
        {
          "output_type": "stream",
          "name": "stderr",
          "text": [
            "100%|██████████| 66/66 [00:10<00:00,  6.53it/s]\n"
          ]
        },
        {
          "output_type": "stream",
          "name": "stdout",
          "text": [
            "Epoch  44 starts!\n"
          ]
        },
        {
          "output_type": "stream",
          "name": "stderr",
          "text": [
            "100%|██████████| 66/66 [00:10<00:00,  6.52it/s]\n"
          ]
        },
        {
          "output_type": "stream",
          "name": "stdout",
          "text": [
            "Epoch  45 starts!\n"
          ]
        },
        {
          "output_type": "stream",
          "name": "stderr",
          "text": [
            "100%|██████████| 66/66 [00:10<00:00,  6.52it/s]\n"
          ]
        },
        {
          "output_type": "stream",
          "name": "stdout",
          "text": [
            "Epoch  46 starts!\n"
          ]
        },
        {
          "output_type": "stream",
          "name": "stderr",
          "text": [
            "100%|██████████| 66/66 [00:10<00:00,  6.53it/s]\n"
          ]
        },
        {
          "output_type": "stream",
          "name": "stdout",
          "text": [
            "Epoch  47 starts!\n"
          ]
        },
        {
          "output_type": "stream",
          "name": "stderr",
          "text": [
            "100%|██████████| 66/66 [00:10<00:00,  6.52it/s]\n"
          ]
        },
        {
          "output_type": "stream",
          "name": "stdout",
          "text": [
            "Epoch  48 starts!\n"
          ]
        },
        {
          "output_type": "stream",
          "name": "stderr",
          "text": [
            "100%|██████████| 66/66 [00:10<00:00,  6.52it/s]\n"
          ]
        },
        {
          "output_type": "stream",
          "name": "stdout",
          "text": [
            "Epoch  49 starts!\n"
          ]
        },
        {
          "output_type": "stream",
          "name": "stderr",
          "text": [
            "100%|██████████| 66/66 [00:10<00:00,  6.52it/s]\n"
          ]
        },
        {
          "output_type": "stream",
          "name": "stdout",
          "text": [
            "path already there!\n",
            "model saved successfully!\n",
            "path already there!\n",
            "mean loss saved successfully!\n"
          ]
        }
      ]
    },
    {
      "cell_type": "code",
      "source": [
        "# 现在读取一下刚跑完的模型的loss看看图像如何\n",
        "model_save_file_name = '/content/drive/MyDrive/DSBA M2/Deep Learning/DL的kaggle/data/saved_model_and_loss'\n",
        "loss_name = 'Mean_loss_256_epochs50_batch_size4_lr000001_Jan17_for_report.npy'\n",
        "epoch_train_loss_filename = model_save_file_name + '/' + loss_name\n",
        "\n",
        "train_data_mean_loss = np.load(epoch_train_loss_filename)\n",
        "plt.plot(train_data_mean_loss, label ='Train Loss')\n",
        "plt.xlabel(\"Epochs\")\n",
        "plt.ylabel(\"Loss Value\")\n",
        "plt.show()"
      ],
      "metadata": {
        "colab": {
          "base_uri": "https://localhost:8080/",
          "height": 279
        },
        "id": "pghm_wNA8Vyc",
        "outputId": "58db1727-5b90-47db-97a4-b51aab6bab51"
      },
      "execution_count": 27,
      "outputs": [
        {
          "output_type": "display_data",
          "data": {
            "image/png": "[encoded data removed]",
            "text/plain": [
              "<Figure size 432x288 with 1 Axes>"
            ]
          },
          "metadata": {
            "needs_background": "light"
          }
        }
      ]
    },
    {
      "cell_type": "markdown",
      "source": [
        "## This loss graph clearly show that my model is seriously overfitting, so I still have to use train and validation dataloader to find the best epochs :( But here let me just choose epoch to be 23"
      ],
      "metadata": {
        "id": "WmELKXLZ8fuF"
      }
    },
    {
      "cell_type": "code",
      "source": [
        "device = torch.device('cuda' if torch.cuda.is_available() else 'cpu')\n",
        "train_data_path = '/content/drive/MyDrive/DSBA M2/Deep Learning/DL的kaggle/data/train_images/train_images_resized'\n",
        "train_mask_path = '/content/drive/MyDrive/DSBA M2/Deep Learning/DL的kaggle/data/train_masks/train_masks_resized'\n",
        "model_save_file_name = '/content/drive/MyDrive/DSBA M2/Deep Learning/DL的kaggle/data/saved_model_and_loss'\n",
        "model_name = 'Model_256_epochs23_batch_size4_lr00001_Jan17_for_report.pt'\n",
        "mean_loss_file_name = model_save_file_name\n",
        "loss_name = 'Mean_loss_256_epochs23_batch_size4_lr00001_Jan17_for_report.npy'\n",
        "\n",
        "net = UNet(n_channels=3, n_classes=25)\n",
        "net.to(device=device)\n",
        "train_net(net,\n",
        "          device, \n",
        "          train_data_path=train_data_path, \n",
        "          train_mask_path=train_mask_path, \n",
        "          model_save_file_name=model_save_file_name, \n",
        "          model_name=model_name, \n",
        "          mean_loss_file_name=mean_loss_file_name, \n",
        "          loss_name=loss_name, \n",
        "          epochs=23, \n",
        "          batch_size=4, \n",
        "          lr=0.0001)"
      ],
      "metadata": {
        "colab": {
          "base_uri": "https://localhost:8080/"
        },
        "id": "5h0bjv3S8p6d",
        "outputId": "911d046b-048a-4f4b-9c8e-35bbd4608d5e"
      },
      "execution_count": 28,
      "outputs": [
        {
          "output_type": "stream",
          "name": "stdout",
          "text": [
            "Epoch  0 starts!\n"
          ]
        },
        {
          "output_type": "stream",
          "name": "stderr",
          "text": [
            "100%|██████████| 66/66 [00:10<00:00,  6.44it/s]\n"
          ]
        },
        {
          "output_type": "stream",
          "name": "stdout",
          "text": [
            "Epoch  1 starts!\n"
          ]
        },
        {
          "output_type": "stream",
          "name": "stderr",
          "text": [
            "100%|██████████| 66/66 [00:10<00:00,  6.54it/s]\n"
          ]
        },
        {
          "output_type": "stream",
          "name": "stdout",
          "text": [
            "Epoch  2 starts!\n"
          ]
        },
        {
          "output_type": "stream",
          "name": "stderr",
          "text": [
            "100%|██████████| 66/66 [00:10<00:00,  6.54it/s]\n"
          ]
        },
        {
          "output_type": "stream",
          "name": "stdout",
          "text": [
            "Epoch  3 starts!\n"
          ]
        },
        {
          "output_type": "stream",
          "name": "stderr",
          "text": [
            "100%|██████████| 66/66 [00:10<00:00,  6.53it/s]\n"
          ]
        },
        {
          "output_type": "stream",
          "name": "stdout",
          "text": [
            "Epoch  4 starts!\n"
          ]
        },
        {
          "output_type": "stream",
          "name": "stderr",
          "text": [
            "100%|██████████| 66/66 [00:10<00:00,  6.53it/s]\n"
          ]
        },
        {
          "output_type": "stream",
          "name": "stdout",
          "text": [
            "Epoch  5 starts!\n"
          ]
        },
        {
          "output_type": "stream",
          "name": "stderr",
          "text": [
            "100%|██████████| 66/66 [00:10<00:00,  6.53it/s]\n"
          ]
        },
        {
          "output_type": "stream",
          "name": "stdout",
          "text": [
            "Epoch  6 starts!\n"
          ]
        },
        {
          "output_type": "stream",
          "name": "stderr",
          "text": [
            "100%|██████████| 66/66 [00:10<00:00,  6.54it/s]\n"
          ]
        },
        {
          "output_type": "stream",
          "name": "stdout",
          "text": [
            "Epoch  7 starts!\n"
          ]
        },
        {
          "output_type": "stream",
          "name": "stderr",
          "text": [
            "100%|██████████| 66/66 [00:10<00:00,  6.54it/s]\n"
          ]
        },
        {
          "output_type": "stream",
          "name": "stdout",
          "text": [
            "Epoch  8 starts!\n"
          ]
        },
        {
          "output_type": "stream",
          "name": "stderr",
          "text": [
            "100%|██████████| 66/66 [00:10<00:00,  6.53it/s]\n"
          ]
        },
        {
          "output_type": "stream",
          "name": "stdout",
          "text": [
            "Epoch  9 starts!\n"
          ]
        },
        {
          "output_type": "stream",
          "name": "stderr",
          "text": [
            "100%|██████████| 66/66 [00:10<00:00,  6.54it/s]\n"
          ]
        },
        {
          "output_type": "stream",
          "name": "stdout",
          "text": [
            "Epoch  10 starts!\n"
          ]
        },
        {
          "output_type": "stream",
          "name": "stderr",
          "text": [
            "100%|██████████| 66/66 [00:10<00:00,  6.54it/s]\n"
          ]
        },
        {
          "output_type": "stream",
          "name": "stdout",
          "text": [
            "Epoch  11 starts!\n"
          ]
        },
        {
          "output_type": "stream",
          "name": "stderr",
          "text": [
            "100%|██████████| 66/66 [00:10<00:00,  6.53it/s]\n"
          ]
        },
        {
          "output_type": "stream",
          "name": "stdout",
          "text": [
            "Epoch  12 starts!\n"
          ]
        },
        {
          "output_type": "stream",
          "name": "stderr",
          "text": [
            "100%|██████████| 66/66 [00:10<00:00,  6.53it/s]\n"
          ]
        },
        {
          "output_type": "stream",
          "name": "stdout",
          "text": [
            "Epoch  13 starts!\n"
          ]
        },
        {
          "output_type": "stream",
          "name": "stderr",
          "text": [
            "100%|██████████| 66/66 [00:10<00:00,  6.53it/s]\n"
          ]
        },
        {
          "output_type": "stream",
          "name": "stdout",
          "text": [
            "Epoch  14 starts!\n"
          ]
        },
        {
          "output_type": "stream",
          "name": "stderr",
          "text": [
            "100%|██████████| 66/66 [00:10<00:00,  6.52it/s]\n"
          ]
        },
        {
          "output_type": "stream",
          "name": "stdout",
          "text": [
            "Epoch  15 starts!\n"
          ]
        },
        {
          "output_type": "stream",
          "name": "stderr",
          "text": [
            "100%|██████████| 66/66 [00:10<00:00,  6.52it/s]\n"
          ]
        },
        {
          "output_type": "stream",
          "name": "stdout",
          "text": [
            "Epoch  16 starts!\n"
          ]
        },
        {
          "output_type": "stream",
          "name": "stderr",
          "text": [
            "100%|██████████| 66/66 [00:10<00:00,  6.52it/s]\n"
          ]
        },
        {
          "output_type": "stream",
          "name": "stdout",
          "text": [
            "Epoch  17 starts!\n"
          ]
        },
        {
          "output_type": "stream",
          "name": "stderr",
          "text": [
            "100%|██████████| 66/66 [00:10<00:00,  6.52it/s]\n"
          ]
        },
        {
          "output_type": "stream",
          "name": "stdout",
          "text": [
            "Epoch  18 starts!\n"
          ]
        },
        {
          "output_type": "stream",
          "name": "stderr",
          "text": [
            "100%|██████████| 66/66 [00:10<00:00,  6.52it/s]\n"
          ]
        },
        {
          "output_type": "stream",
          "name": "stdout",
          "text": [
            "Epoch  19 starts!\n"
          ]
        },
        {
          "output_type": "stream",
          "name": "stderr",
          "text": [
            "100%|██████████| 66/66 [00:10<00:00,  6.53it/s]\n"
          ]
        },
        {
          "output_type": "stream",
          "name": "stdout",
          "text": [
            "Epoch  20 starts!\n"
          ]
        },
        {
          "output_type": "stream",
          "name": "stderr",
          "text": [
            "100%|██████████| 66/66 [00:10<00:00,  6.53it/s]\n"
          ]
        },
        {
          "output_type": "stream",
          "name": "stdout",
          "text": [
            "Epoch  21 starts!\n"
          ]
        },
        {
          "output_type": "stream",
          "name": "stderr",
          "text": [
            "100%|██████████| 66/66 [00:10<00:00,  6.53it/s]\n"
          ]
        },
        {
          "output_type": "stream",
          "name": "stdout",
          "text": [
            "Epoch  22 starts!\n"
          ]
        },
        {
          "output_type": "stream",
          "name": "stderr",
          "text": [
            "100%|██████████| 66/66 [00:10<00:00,  6.52it/s]\n"
          ]
        },
        {
          "output_type": "stream",
          "name": "stdout",
          "text": [
            "path already there!\n",
            "model saved successfully!\n",
            "path already there!\n",
            "mean loss saved successfully!\n"
          ]
        }
      ]
    },
    {
      "cell_type": "code",
      "source": [
        "model_save_file_name = '/content/drive/MyDrive/DSBA M2/Deep Learning/DL的kaggle/data/saved_model_and_loss'\n",
        "loss_name = 'Mean_loss_256_epochs23_batch_size4_lr00001_Jan17_for_report.npy'\n",
        "epoch_train_loss_filename = model_save_file_name + '/' + loss_name\n",
        "\n",
        "train_data_mean_loss = np.load(epoch_train_loss_filename)\n",
        "plt.plot(train_data_mean_loss, label ='Train Loss')\n",
        "plt.xlabel(\"Epochs\")\n",
        "plt.ylabel(\"Loss Value\")\n",
        "plt.show()"
      ],
      "metadata": {
        "colab": {
          "base_uri": "https://localhost:8080/",
          "height": 279
        },
        "id": "ZwkihdP280bY",
        "outputId": "283eb295-92d9-40bd-c60e-91ed7c8d0768"
      },
      "execution_count": 29,
      "outputs": [
        {
          "output_type": "display_data",
          "data": {
            "image/png": "[encoded data removed]",
            "text/plain": [
              "<Figure size 432x288 with 1 Axes>"
            ]
          },
          "metadata": {
            "needs_background": "light"
          }
        }
      ]
    },
    {
      "cell_type": "markdown",
      "source": [
        "Comment: The graph shows the model is indeed training, so now we try to make a prediction and have the first submission."
      ],
      "metadata": {
        "id": "rCf8BBZE7na0"
      }
    },
    {
      "cell_type": "markdown",
      "source": [
        "# Make predictions based on last model"
      ],
      "metadata": {
        "id": "xOkivMrt9Ejs"
      }
    },
    {
      "cell_type": "markdown",
      "source": [
        "## Read the model"
      ],
      "metadata": {
        "id": "HZPl5JYx9LaQ"
      }
    },
    {
      "cell_type": "code",
      "source": [
        "model = UNet(n_channels=3, n_classes=25)\n",
        "model.to(device)\n",
        "model.load_state_dict(torch.load('/content/drive/MyDrive/DSBA M2/Deep Learning/DL的kaggle/data/saved_model_and_loss/Model_256_epochs23_batch_size4_lr00001_Jan17_for_report.pt'))\n",
        "\n",
        "# Find test data\n",
        "test_data_path = '/content/drive/MyDrive/DSBA M2/Deep Learning/DL的kaggle/data/test_images/test_images'\n",
        "test_path = glob.glob(os.path.join(test_data_path, '*.jpg'))"
      ],
      "metadata": {
        "id": "2lXqU2NL62VE"
      },
      "execution_count": 30,
      "outputs": []
    },
    {
      "cell_type": "markdown",
      "source": [
        "## Make sure the test images are correctly resized to 256*256"
      ],
      "metadata": {
        "id": "gu0PguKi9b4r"
      }
    },
    {
      "cell_type": "code",
      "source": [
        "make_test_image_resized(necessary=False)"
      ],
      "metadata": {
        "colab": {
          "base_uri": "https://localhost:8080/"
        },
        "id": "go9_PeAm7uSU",
        "outputId": "d911a050-595f-4067-ee7d-bc9eea1ffa4a"
      },
      "execution_count": 35,
      "outputs": [
        {
          "output_type": "stream",
          "name": "stdout",
          "text": [
            "Nothing is excecuted since the test images are already resized!\n"
          ]
        }
      ]
    },
    {
      "cell_type": "markdown",
      "source": [
        "# Start making predictions"
      ],
      "metadata": {
        "id": "eEAaEBxn9_XN"
      }
    },
    {
      "cell_type": "code",
      "source": [
        "# Start predicting\n",
        "def pred_on_test(model, test_path_for_pred, model_save_dir): # 这两个参数都是文件夹位置，我们的目的是将新的图片保存下来！（不是保存tensor）\n",
        "\n",
        "    for small_test_data in tqdm(test_path_for_pred):\n",
        "        image = cv2.imread(small_test_data)\n",
        "\n",
        "        if image.max() > 1:\n",
        "            image = image / 255\n",
        "        image = torch.tensor(image)\n",
        "        image = image.permute(2, 0, 1)\n",
        "        image = image.to(device=device, dtype=torch.float32)\n",
        "        image = image.unsqueeze(0)\n",
        "\n",
        "        model.eval()\n",
        "        outputs = model(image) # 格式是tensor，大小是[1, 25, 256, 256]\n",
        "        outputs = torch.argmax(outputs, 1) # 现在是[1, 256, 256]\n",
        "\n",
        "\n",
        "        # -----------------------Save Pred Images------------------------\n",
        "        image_name = small_test_data.split('/')[-1].split('.')[0]\n",
        "        destination_dir = model_save_dir + '/' + image_name + '.png'\n",
        "        outputs = outputs.long()\n",
        "\n",
        "        if outputs.max() > 1:\n",
        "            outputs = outputs.float()/255.0\n",
        "        else:\n",
        "            outputs = outputs.float()\n",
        "\n",
        "        # outputs = outputs.float()\n",
        "        save_image(outputs, destination_dir)  # outputs大小是[1, 256, 256]\n",
        "        # save_image(torch.from_numpy(image_temp0).float()/255.0, './temp/0image_'+str(index_temp)+'.jpg', nrow= 1)\n",
        "\n",
        "    print()\n",
        "    print('Saved Successfully!')\n",
        "\n",
        "test_data_path = '/content/drive/MyDrive/DSBA M2/Deep Learning/DL的kaggle/data/test_images/test_images_resized'\n",
        "test_path_for_pred = glob.glob(os.path.join(test_data_path, '*.jpg'))\n",
        "\n",
        "model_save_dir = '/content/drive/MyDrive/DSBA M2/Deep Learning/DL的kaggle/data/test_images/pred_small_test_images_256_epochs23_batch4_lr00001_Jan17_for_report'\n",
        "create_dir_not_exist(model_save_dir)\n",
        "\n",
        "pred_on_test(model, test_path_for_pred, model_save_dir=model_save_dir)"
      ],
      "metadata": {
        "colab": {
          "base_uri": "https://localhost:8080/"
        },
        "id": "Iya1VEan7uV1",
        "outputId": "a76a5942-bedf-4728-e234-44e87227e1e0"
      },
      "execution_count": 36,
      "outputs": [
        {
          "output_type": "stream",
          "name": "stdout",
          "text": [
            "path created!\n"
          ]
        },
        {
          "output_type": "stream",
          "name": "stderr",
          "text": [
            "100%|██████████| 112/112 [00:04<00:00, 24.14it/s]"
          ]
        },
        {
          "output_type": "stream",
          "name": "stdout",
          "text": [
            "\n",
            "Saved Successfully!\n"
          ]
        },
        {
          "output_type": "stream",
          "name": "stderr",
          "text": [
            "\n"
          ]
        }
      ]
    },
    {
      "cell_type": "markdown",
      "source": [
        "## Now let's have a look at the predicted image, which is shit"
      ],
      "metadata": {
        "id": "3t_7us5l_p93"
      }
    },
    {
      "cell_type": "code",
      "source": [
        "# 现在看一下预测出来的图片\n",
        "dir = '/content/drive/MyDrive/DSBA M2/Deep Learning/DL的kaggle/data/test_images/pred_small_test_images_256_epochs23_batch4_lr00001_Jan17_for_report'\n",
        "imgs_path = glob.glob(os.path.join(dir, '*.png'))\n",
        "mask = Image.open(imgs_path[1])\n",
        "a = transforms.ToTensor()(mask)\n",
        "plt.imshow(a[1].numpy())"
      ],
      "metadata": {
        "colab": {
          "base_uri": "https://localhost:8080/",
          "height": 288
        },
        "id": "_X8oqg-87uY3",
        "outputId": "0f9ac9f2-2ca2-4118-a27b-cd93ae603803"
      },
      "execution_count": 37,
      "outputs": [
        {
          "output_type": "execute_result",
          "data": {
            "text/plain": [
              "<matplotlib.image.AxesImage at 0x7eff4ee100d0>"
            ]
          },
          "metadata": {},
          "execution_count": 37
        },
        {
          "output_type": "display_data",
          "data": {
            "image/png": "[encoded data removed]",
            "text/plain": [
              "<Figure size 432x288 with 1 Axes>"
            ]
          },
          "metadata": {
            "needs_background": "light"
          }
        }
      ]
    },
    {
      "cell_type": "markdown",
      "source": [
        "So now the model we have only predicted 2 classes, which is not good at all."
      ],
      "metadata": {
        "id": "Q_iWn17OAziY"
      }
    },
    {
      "cell_type": "code",
      "source": [
        ""
      ],
      "metadata": {
        "id": "N6cZwzr77ubp"
      },
      "execution_count": null,
      "outputs": []
    },
    {
      "cell_type": "markdown",
      "source": [
        "# Define the resize function to make the predicted image back to its original size\n",
        "\n",
        "This is not necessary, but I didn't find the resize back function in submission.py, so when I make my own pred images, I still resized them back. Here is the process"
      ],
      "metadata": {
        "id": "4JFD0EjhA3qB"
      }
    },
    {
      "cell_type": "code",
      "source": [
        "def resize_back(test_file, original_file, save_dir=True, show_image=False): \n",
        "    # 这里test_file就是预测出来的image, original_file是原本压缩前的image地址\n",
        "    # save_dir仅仅为想要save这些图片的文件夹位置\n",
        "\n",
        "    original_image = Image.open(original_file)\n",
        "    test_small_image = Image.open(test_file)\n",
        "    \n",
        "    w, h = original_image.size\n",
        "    # print(w,h)\n",
        "\n",
        "    new_image = Image.new('L', size=(w, h), color= 'white')\n",
        "    new_image = test_small_image.resize((w, h))\n",
        "\n",
        "    # 将所有pixel都化成0-255之间\n",
        "    # image = cv2.imread(small_test_data)\n",
        "\n",
        "    if save_dir: # 意味着我们要保存这些图片\n",
        "        # 提取文件名字\n",
        "        image_name = test_file.split('/')[-1]\n",
        "        save_dir = save_dir + '/' + str(image_name)\n",
        "        new_image.save(save_dir)\n",
        "\n",
        "    if show_image:\n",
        "        return new_image # 不是tensor格式！需要再用image_to_tensor！\n",
        "    else:\n",
        "        return None"
      ],
      "metadata": {
        "id": "6qXtASrM7ueL"
      },
      "execution_count": 18,
      "outputs": []
    },
    {
      "cell_type": "code",
      "source": [
        "test_file = '/content/drive/MyDrive/DSBA M2/Deep Learning/DL的kaggle/data/test_images/pred_small_test_images_256_epochs23_batch4_lr00001_Jan17_for_report'\n",
        "original_file = '/content/drive/MyDrive/DSBA M2/Deep Learning/DL的kaggle/data/test_images/test_images'\n",
        "\n",
        "# ----------------------For saving new pred images-------------------------\n",
        "create_dir_not_exist('/content/drive/MyDrive/DSBA M2/Deep Learning/DL的kaggle/data/test_images/pred_small_test_images_resized_back_Jan17_for_report')\n",
        "save_dir = '/content/drive/MyDrive/DSBA M2/Deep Learning/DL的kaggle/data/test_images/pred_small_test_images_resized_back_Jan17_for_report'\n",
        "\n",
        "test_files = glob.glob(os.path.join(test_file, '*.png'))\n",
        "original_files = glob.glob(os.path.join(original_file, '*.jpg'))"
      ],
      "metadata": {
        "colab": {
          "base_uri": "https://localhost:8080/"
        },
        "id": "MJpKj2MPBOEi",
        "outputId": "0e4baead-3305-470a-9205-b45c3a2dd6f3"
      },
      "execution_count": 42,
      "outputs": [
        {
          "output_type": "stream",
          "name": "stdout",
          "text": [
            "path created!\n"
          ]
        }
      ]
    },
    {
      "cell_type": "code",
      "source": [
        "# ---------------------Resize Back-------------------------\n",
        "for i in tqdm(range(len(test_files))):\n",
        "    resize_back(test_files[i], original_files[i], save_dir=save_dir, show_image=False)"
      ],
      "metadata": {
        "colab": {
          "base_uri": "https://localhost:8080/"
        },
        "id": "nxy9fwy4BOHx",
        "outputId": "9ac5a6c7-894c-4af5-c054-0078beef8f81"
      },
      "execution_count": 43,
      "outputs": [
        {
          "output_type": "stream",
          "name": "stderr",
          "text": [
            "100%|██████████| 112/112 [00:57<00:00,  1.94it/s]\n"
          ]
        }
      ]
    },
    {
      "cell_type": "markdown",
      "source": [
        "# Prepare submission at the first trial"
      ],
      "metadata": {
        "id": "xDQUZZHSCBsw"
      }
    },
    {
      "cell_type": "code",
      "source": [
        "def rle_encode(img):\n",
        "    '''\n",
        "    img: numpy array, 1 - mask, 0 - background\n",
        "    Returns run length as string formated\n",
        "    '''\n",
        "    pixels = img.flatten()\n",
        "    pixels = np.concatenate([[0], pixels, [0]])\n",
        "    runs = np.where(pixels[1:] != pixels[:-1])[0] + 1\n",
        "    runs[1::2] -= runs[::2]\n",
        "    return ' '.join(str(x) for x in runs)\n",
        "\n",
        "def rle_decode(mask_rle, shape):\n",
        "    '''\n",
        "    mask_rle: run-length as string formated (start length)\n",
        "    shape: (height,width) of array to return\n",
        "    Returns numpy array, 1 - mask, 0 - background\n",
        "    '''\n",
        "    s = mask_rle.split()\n",
        "    starts, lengths = [np.asarray(x, dtype=int) for x in (s[0:][::2], s[1:][::2])]\n",
        "    starts -= 1\n",
        "    ends = starts + lengths\n",
        "    img = np.zeros(shape[0]*shape[1], dtype=np.uint8)\n",
        "    for lo, hi in zip(starts, ends):\n",
        "        img[lo:hi] = 1\n",
        "    return img.reshape(shape)\n",
        "\n",
        "def create_rles():\n",
        "    \"\"\"Used for Kaggle submission: predicts and encode all test images\"\"\"\n",
        "    # create_dir_not_exist('/content/drive/MyDrive/DSBA M2/Deep Learning/DL的kaggle/data/submission')\n",
        "\n",
        "    # -----------------------------Choose Dir------------------------------\n",
        "    dir = '/content/drive/MyDrive/DSBA M2/Deep Learning/DL的kaggle/data/test_images/pred_small_test_images_resized_back_Jan17_for_report/'\n",
        "\n",
        "    N = len(list(os.listdir(dir)))\n",
        "    with open('submission_file_first_trial.csv', 'w') as f:\n",
        "        f.write('ImageClassId,rle_mask\\n')\n",
        "        for index, i in tqdm(enumerate(os.listdir(dir))):\n",
        "            # print('{}/{}'.format(index, N))\n",
        "\n",
        "            mask = Image.open(dir + i)\n",
        "            mask = mask.resize((1024, 1024), resample=Image.NEAREST)\n",
        "            mask = np.array(mask)\n",
        "\n",
        "            for x in range(1, 25):\n",
        "                enc = rle_encode(mask == x)\n",
        "                f.write(f\"{i.split('_')[0]}_{x},{enc}\\n\")\n",
        "\n",
        "create_rles()"
      ],
      "metadata": {
        "colab": {
          "base_uri": "https://localhost:8080/"
        },
        "id": "AzCNxIhtBOLG",
        "outputId": "27357302-51df-434a-a0ca-7c4eaeb27a35"
      },
      "execution_count": 19,
      "outputs": [
        {
          "output_type": "stream",
          "name": "stderr",
          "text": [
            "112it [00:36,  3.04it/s]\n"
          ]
        }
      ]
    },
    {
      "cell_type": "markdown",
      "source": [
        "The submission file submission_file_first_trial.csv has a score of:0.54562, which is super bad. Let's try something else."
      ],
      "metadata": {
        "id": "g0lPiIq7DNEo"
      }
    },
    {
      "cell_type": "markdown",
      "source": [
        "Before trial, let's have a look at the predicted image mask."
      ],
      "metadata": {
        "id": "lWSPtXIiDlzI"
      }
    },
    {
      "cell_type": "code",
      "source": [
        "dir = '/content/drive/MyDrive/DSBA M2/Deep Learning/DL的kaggle/data/test_images/pred_small_test_images_resized_back_Jan17_for_report/10170.png'\n",
        "mask = Image.open(dir)\n",
        "a = transforms.ToTensor()(mask).numpy()\n",
        "a"
      ],
      "metadata": {
        "colab": {
          "base_uri": "https://localhost:8080/"
        },
        "id": "LkB1osGaBON4",
        "outputId": "72c7000b-fdea-4f49-b03e-44a2cd65fe5e"
      },
      "execution_count": 47,
      "outputs": [
        {
          "output_type": "execute_result",
          "data": {
            "text/plain": [
              "array([[[1., 1., 1., ..., 0., 0., 0.],\n",
              "        [1., 1., 1., ..., 0., 0., 0.],\n",
              "        [1., 1., 1., ..., 0., 0., 0.],\n",
              "        ...,\n",
              "        [1., 1., 1., ..., 0., 0., 0.],\n",
              "        [1., 1., 1., ..., 0., 0., 0.],\n",
              "        [1., 1., 1., ..., 0., 0., 0.]],\n",
              "\n",
              "       [[1., 1., 1., ..., 0., 0., 0.],\n",
              "        [1., 1., 1., ..., 0., 0., 0.],\n",
              "        [1., 1., 1., ..., 0., 0., 0.],\n",
              "        ...,\n",
              "        [1., 1., 1., ..., 0., 0., 0.],\n",
              "        [1., 1., 1., ..., 0., 0., 0.],\n",
              "        [1., 1., 1., ..., 0., 0., 0.]],\n",
              "\n",
              "       [[1., 1., 1., ..., 0., 0., 0.],\n",
              "        [1., 1., 1., ..., 0., 0., 0.],\n",
              "        [1., 1., 1., ..., 0., 0., 0.],\n",
              "        ...,\n",
              "        [1., 1., 1., ..., 0., 0., 0.],\n",
              "        [1., 1., 1., ..., 0., 0., 0.],\n",
              "        [1., 1., 1., ..., 0., 0., 0.]]], dtype=float32)"
            ]
          },
          "metadata": {},
          "execution_count": 47
        }
      ]
    },
    {
      "cell_type": "code",
      "source": [
        "mask = Image.open('/content/drive/MyDrive/DSBA M2/Deep Learning/DL的kaggle/data/train_masks/train_masks/10172.png')\n",
        "a = transforms.ToTensor()(mask)\n",
        "plt.imshow(a[0].numpy())"
      ],
      "metadata": {
        "colab": {
          "base_uri": "https://localhost:8080/",
          "height": 288
        },
        "id": "aXLyQVJ3BOTP",
        "outputId": "f417ea91-c66d-4574-ad1d-c0f50aaa93df"
      },
      "execution_count": 51,
      "outputs": [
        {
          "output_type": "execute_result",
          "data": {
            "text/plain": [
              "<matplotlib.image.AxesImage at 0x7eff4e9eead0>"
            ]
          },
          "metadata": {},
          "execution_count": 51
        },
        {
          "output_type": "display_data",
          "data": {
            "image/png": "[encoded data removed]",
            "text/plain": [
              "<Figure size 432x288 with 1 Axes>"
            ]
          },
          "metadata": {
            "needs_background": "light"
          }
        }
      ]
    },
    {
      "cell_type": "code",
      "source": [
        "import pandas as pd\n",
        "pd.DataFrame((a[0].numpy()*255)[:, 2500]).plot()"
      ],
      "metadata": {
        "colab": {
          "base_uri": "https://localhost:8080/",
          "height": 284
        },
        "id": "F_JGQA3JDzg9",
        "outputId": "4719fdcc-ee1a-4670-f0c0-3a4b878719d9"
      },
      "execution_count": 52,
      "outputs": [
        {
          "output_type": "execute_result",
          "data": {
            "text/plain": [
              "<matplotlib.axes._subplots.AxesSubplot at 0x7eff4e9e0990>"
            ]
          },
          "metadata": {},
          "execution_count": 52
        },
        {
          "output_type": "display_data",
          "data": {
            "image/png": "[encoded data removed]",
            "text/plain": [
              "<Figure size 432x288 with 1 Axes>"
            ]
          },
          "metadata": {
            "needs_background": "light"
          }
        }
      ]
    },
    {
      "cell_type": "markdown",
      "source": [
        "## Let's see how many classes are there"
      ],
      "metadata": {
        "id": "CLhaKNy-ECD3"
      }
    },
    {
      "cell_type": "code",
      "source": [
        "from collections import Counter\n",
        "Counter((a[0].numpy()*255)[:, 2500])"
      ],
      "metadata": {
        "colab": {
          "base_uri": "https://localhost:8080/"
        },
        "id": "yKm4HtNkDzkW",
        "outputId": "bf3e7cb7-2d91-42cd-b4ea-bef263a285f3"
      },
      "execution_count": 53,
      "outputs": [
        {
          "output_type": "execute_result",
          "data": {
            "text/plain": [
              "Counter({0.0: 512, 1.0: 1399, 5.0: 51, 21.0: 2038})"
            ]
          },
          "metadata": {},
          "execution_count": 53
        }
      ]
    },
    {
      "cell_type": "code",
      "source": [
        ""
      ],
      "metadata": {
        "id": "oaN_aOhJDznQ"
      },
      "execution_count": null,
      "outputs": []
    },
    {
      "cell_type": "markdown",
      "source": [
        "# Now let's make the second trial, try epoch=70 with 256*256"
      ],
      "metadata": {
        "id": "_gYUkxMIEGoP"
      }
    },
    {
      "cell_type": "code",
      "source": [
        "device = 'cuda' if torch.cuda.is_available() else 'cpu'\n",
        "train_data_path = '/content/drive/MyDrive/DSBA M2/Deep Learning/DL的kaggle/data/train_images/train_images_resized'\n",
        "train_mask_path = '/content/drive/MyDrive/DSBA M2/Deep Learning/DL的kaggle/data/train_masks/train_masks_resized'\n",
        "model_save_file_name = '/content/drive/MyDrive/DSBA M2/Deep Learning/DL的kaggle/data/saved_model_and_loss'\n",
        "model_name = 'Model_256_epochs70_batch_size10_lr000001_Jan17_for_report_second_try.pt'\n",
        "mean_loss_file_name = model_save_file_name\n",
        "loss_name = 'Mean_loss_256_epochs70_batch_size10_lr000001_Jan17_for_report_second_try.npy'\n",
        "\n",
        "net = UNet(n_channels=3, n_classes=25)\n",
        "net.to(device)\n",
        "train_net(net,\n",
        "          device, \n",
        "          train_data_path=train_data_path, \n",
        "          train_mask_path=train_mask_path, \n",
        "          model_save_file_name=model_save_file_name, \n",
        "          model_name=model_name, \n",
        "          mean_loss_file_name=mean_loss_file_name, \n",
        "          loss_name=loss_name, \n",
        "          epochs=70, \n",
        "          batch_size=10, \n",
        "          lr=0.0001)"
      ],
      "metadata": {
        "colab": {
          "base_uri": "https://localhost:8080/"
        },
        "id": "mt_oIYXzDzqP",
        "outputId": "08ea898f-7563-4dcb-c728-e75b8698d1f8"
      },
      "execution_count": 54,
      "outputs": [
        {
          "output_type": "stream",
          "name": "stdout",
          "text": [
            "Epoch  0 starts!\n"
          ]
        },
        {
          "output_type": "stream",
          "name": "stderr",
          "text": [
            "100%|██████████| 27/27 [00:10<00:00,  2.55it/s]\n"
          ]
        },
        {
          "output_type": "stream",
          "name": "stdout",
          "text": [
            "Epoch  1 starts!\n"
          ]
        },
        {
          "output_type": "stream",
          "name": "stderr",
          "text": [
            "100%|██████████| 27/27 [00:10<00:00,  2.58it/s]\n"
          ]
        },
        {
          "output_type": "stream",
          "name": "stdout",
          "text": [
            "Epoch  2 starts!\n"
          ]
        },
        {
          "output_type": "stream",
          "name": "stderr",
          "text": [
            "100%|██████████| 27/27 [00:10<00:00,  2.57it/s]\n"
          ]
        },
        {
          "output_type": "stream",
          "name": "stdout",
          "text": [
            "Epoch  3 starts!\n"
          ]
        },
        {
          "output_type": "stream",
          "name": "stderr",
          "text": [
            "100%|██████████| 27/27 [00:10<00:00,  2.57it/s]\n"
          ]
        },
        {
          "output_type": "stream",
          "name": "stdout",
          "text": [
            "Epoch  4 starts!\n"
          ]
        },
        {
          "output_type": "stream",
          "name": "stderr",
          "text": [
            "100%|██████████| 27/27 [00:10<00:00,  2.57it/s]\n"
          ]
        },
        {
          "output_type": "stream",
          "name": "stdout",
          "text": [
            "Epoch  5 starts!\n"
          ]
        },
        {
          "output_type": "stream",
          "name": "stderr",
          "text": [
            "100%|██████████| 27/27 [00:10<00:00,  2.56it/s]\n"
          ]
        },
        {
          "output_type": "stream",
          "name": "stdout",
          "text": [
            "Epoch  6 starts!\n"
          ]
        },
        {
          "output_type": "stream",
          "name": "stderr",
          "text": [
            "100%|██████████| 27/27 [00:10<00:00,  2.57it/s]\n"
          ]
        },
        {
          "output_type": "stream",
          "name": "stdout",
          "text": [
            "Epoch  7 starts!\n"
          ]
        },
        {
          "output_type": "stream",
          "name": "stderr",
          "text": [
            "100%|██████████| 27/27 [00:10<00:00,  2.57it/s]\n"
          ]
        },
        {
          "output_type": "stream",
          "name": "stdout",
          "text": [
            "Epoch  8 starts!\n"
          ]
        },
        {
          "output_type": "stream",
          "name": "stderr",
          "text": [
            "100%|██████████| 27/27 [00:10<00:00,  2.57it/s]\n"
          ]
        },
        {
          "output_type": "stream",
          "name": "stdout",
          "text": [
            "Epoch  9 starts!\n"
          ]
        },
        {
          "output_type": "stream",
          "name": "stderr",
          "text": [
            "100%|██████████| 27/27 [00:10<00:00,  2.57it/s]\n"
          ]
        },
        {
          "output_type": "stream",
          "name": "stdout",
          "text": [
            "Epoch  10 starts!\n"
          ]
        },
        {
          "output_type": "stream",
          "name": "stderr",
          "text": [
            "100%|██████████| 27/27 [00:10<00:00,  2.57it/s]\n"
          ]
        },
        {
          "output_type": "stream",
          "name": "stdout",
          "text": [
            "Epoch  11 starts!\n"
          ]
        },
        {
          "output_type": "stream",
          "name": "stderr",
          "text": [
            "100%|██████████| 27/27 [00:10<00:00,  2.57it/s]\n"
          ]
        },
        {
          "output_type": "stream",
          "name": "stdout",
          "text": [
            "Epoch  12 starts!\n"
          ]
        },
        {
          "output_type": "stream",
          "name": "stderr",
          "text": [
            "100%|██████████| 27/27 [00:10<00:00,  2.57it/s]\n"
          ]
        },
        {
          "output_type": "stream",
          "name": "stdout",
          "text": [
            "Epoch  13 starts!\n"
          ]
        },
        {
          "output_type": "stream",
          "name": "stderr",
          "text": [
            "100%|██████████| 27/27 [00:10<00:00,  2.57it/s]\n"
          ]
        },
        {
          "output_type": "stream",
          "name": "stdout",
          "text": [
            "Epoch  14 starts!\n"
          ]
        },
        {
          "output_type": "stream",
          "name": "stderr",
          "text": [
            "100%|██████████| 27/27 [00:10<00:00,  2.57it/s]\n"
          ]
        },
        {
          "output_type": "stream",
          "name": "stdout",
          "text": [
            "Epoch  15 starts!\n"
          ]
        },
        {
          "output_type": "stream",
          "name": "stderr",
          "text": [
            "100%|██████████| 27/27 [00:10<00:00,  2.57it/s]\n"
          ]
        },
        {
          "output_type": "stream",
          "name": "stdout",
          "text": [
            "Epoch  16 starts!\n"
          ]
        },
        {
          "output_type": "stream",
          "name": "stderr",
          "text": [
            "100%|██████████| 27/27 [00:10<00:00,  2.57it/s]\n"
          ]
        },
        {
          "output_type": "stream",
          "name": "stdout",
          "text": [
            "Epoch  17 starts!\n"
          ]
        },
        {
          "output_type": "stream",
          "name": "stderr",
          "text": [
            "100%|██████████| 27/27 [00:10<00:00,  2.57it/s]\n"
          ]
        },
        {
          "output_type": "stream",
          "name": "stdout",
          "text": [
            "Epoch  18 starts!\n"
          ]
        },
        {
          "output_type": "stream",
          "name": "stderr",
          "text": [
            "100%|██████████| 27/27 [00:10<00:00,  2.57it/s]\n"
          ]
        },
        {
          "output_type": "stream",
          "name": "stdout",
          "text": [
            "Epoch  19 starts!\n"
          ]
        },
        {
          "output_type": "stream",
          "name": "stderr",
          "text": [
            "100%|██████████| 27/27 [00:10<00:00,  2.57it/s]\n"
          ]
        },
        {
          "output_type": "stream",
          "name": "stdout",
          "text": [
            "Epoch  20 starts!\n"
          ]
        },
        {
          "output_type": "stream",
          "name": "stderr",
          "text": [
            "100%|██████████| 27/27 [00:10<00:00,  2.57it/s]\n"
          ]
        },
        {
          "output_type": "stream",
          "name": "stdout",
          "text": [
            "Epoch  21 starts!\n"
          ]
        },
        {
          "output_type": "stream",
          "name": "stderr",
          "text": [
            "100%|██████████| 27/27 [00:10<00:00,  2.57it/s]\n"
          ]
        },
        {
          "output_type": "stream",
          "name": "stdout",
          "text": [
            "Epoch  22 starts!\n"
          ]
        },
        {
          "output_type": "stream",
          "name": "stderr",
          "text": [
            "100%|██████████| 27/27 [00:10<00:00,  2.57it/s]\n"
          ]
        },
        {
          "output_type": "stream",
          "name": "stdout",
          "text": [
            "Epoch  23 starts!\n"
          ]
        },
        {
          "output_type": "stream",
          "name": "stderr",
          "text": [
            "100%|██████████| 27/27 [00:10<00:00,  2.57it/s]\n"
          ]
        },
        {
          "output_type": "stream",
          "name": "stdout",
          "text": [
            "Epoch  24 starts!\n"
          ]
        },
        {
          "output_type": "stream",
          "name": "stderr",
          "text": [
            "100%|██████████| 27/27 [00:10<00:00,  2.57it/s]\n"
          ]
        },
        {
          "output_type": "stream",
          "name": "stdout",
          "text": [
            "Epoch  25 starts!\n"
          ]
        },
        {
          "output_type": "stream",
          "name": "stderr",
          "text": [
            "100%|██████████| 27/27 [00:10<00:00,  2.57it/s]\n"
          ]
        },
        {
          "output_type": "stream",
          "name": "stdout",
          "text": [
            "Epoch  26 starts!\n"
          ]
        },
        {
          "output_type": "stream",
          "name": "stderr",
          "text": [
            "100%|██████████| 27/27 [00:10<00:00,  2.57it/s]\n"
          ]
        },
        {
          "output_type": "stream",
          "name": "stdout",
          "text": [
            "Epoch  27 starts!\n"
          ]
        },
        {
          "output_type": "stream",
          "name": "stderr",
          "text": [
            "100%|██████████| 27/27 [00:10<00:00,  2.57it/s]\n"
          ]
        },
        {
          "output_type": "stream",
          "name": "stdout",
          "text": [
            "Epoch  28 starts!\n"
          ]
        },
        {
          "output_type": "stream",
          "name": "stderr",
          "text": [
            "100%|██████████| 27/27 [00:10<00:00,  2.56it/s]\n"
          ]
        },
        {
          "output_type": "stream",
          "name": "stdout",
          "text": [
            "Epoch  29 starts!\n"
          ]
        },
        {
          "output_type": "stream",
          "name": "stderr",
          "text": [
            "100%|██████████| 27/27 [00:10<00:00,  2.57it/s]\n"
          ]
        },
        {
          "output_type": "stream",
          "name": "stdout",
          "text": [
            "Epoch  30 starts!\n"
          ]
        },
        {
          "output_type": "stream",
          "name": "stderr",
          "text": [
            "100%|██████████| 27/27 [00:10<00:00,  2.57it/s]\n"
          ]
        },
        {
          "output_type": "stream",
          "name": "stdout",
          "text": [
            "Epoch  31 starts!\n"
          ]
        },
        {
          "output_type": "stream",
          "name": "stderr",
          "text": [
            "100%|██████████| 27/27 [00:10<00:00,  2.57it/s]\n"
          ]
        },
        {
          "output_type": "stream",
          "name": "stdout",
          "text": [
            "Epoch  32 starts!\n"
          ]
        },
        {
          "output_type": "stream",
          "name": "stderr",
          "text": [
            "100%|██████████| 27/27 [00:10<00:00,  2.57it/s]\n"
          ]
        },
        {
          "output_type": "stream",
          "name": "stdout",
          "text": [
            "Epoch  33 starts!\n"
          ]
        },
        {
          "output_type": "stream",
          "name": "stderr",
          "text": [
            "100%|██████████| 27/27 [00:10<00:00,  2.57it/s]\n"
          ]
        },
        {
          "output_type": "stream",
          "name": "stdout",
          "text": [
            "Epoch  34 starts!\n"
          ]
        },
        {
          "output_type": "stream",
          "name": "stderr",
          "text": [
            "100%|██████████| 27/27 [00:10<00:00,  2.57it/s]\n"
          ]
        },
        {
          "output_type": "stream",
          "name": "stdout",
          "text": [
            "Epoch  35 starts!\n"
          ]
        },
        {
          "output_type": "stream",
          "name": "stderr",
          "text": [
            "100%|██████████| 27/27 [00:10<00:00,  2.57it/s]\n"
          ]
        },
        {
          "output_type": "stream",
          "name": "stdout",
          "text": [
            "Epoch  36 starts!\n"
          ]
        },
        {
          "output_type": "stream",
          "name": "stderr",
          "text": [
            "100%|██████████| 27/27 [00:10<00:00,  2.57it/s]\n"
          ]
        },
        {
          "output_type": "stream",
          "name": "stdout",
          "text": [
            "Epoch  37 starts!\n"
          ]
        },
        {
          "output_type": "stream",
          "name": "stderr",
          "text": [
            "100%|██████████| 27/27 [00:10<00:00,  2.57it/s]\n"
          ]
        },
        {
          "output_type": "stream",
          "name": "stdout",
          "text": [
            "Epoch  38 starts!\n"
          ]
        },
        {
          "output_type": "stream",
          "name": "stderr",
          "text": [
            "100%|██████████| 27/27 [00:10<00:00,  2.57it/s]\n"
          ]
        },
        {
          "output_type": "stream",
          "name": "stdout",
          "text": [
            "Epoch  39 starts!\n"
          ]
        },
        {
          "output_type": "stream",
          "name": "stderr",
          "text": [
            "100%|██████████| 27/27 [00:10<00:00,  2.57it/s]\n"
          ]
        },
        {
          "output_type": "stream",
          "name": "stdout",
          "text": [
            "Epoch  40 starts!\n"
          ]
        },
        {
          "output_type": "stream",
          "name": "stderr",
          "text": [
            "100%|██████████| 27/27 [00:10<00:00,  2.57it/s]\n"
          ]
        },
        {
          "output_type": "stream",
          "name": "stdout",
          "text": [
            "Epoch  41 starts!\n"
          ]
        },
        {
          "output_type": "stream",
          "name": "stderr",
          "text": [
            "100%|██████████| 27/27 [00:10<00:00,  2.57it/s]\n"
          ]
        },
        {
          "output_type": "stream",
          "name": "stdout",
          "text": [
            "Epoch  42 starts!\n"
          ]
        },
        {
          "output_type": "stream",
          "name": "stderr",
          "text": [
            "100%|██████████| 27/27 [00:10<00:00,  2.57it/s]\n"
          ]
        },
        {
          "output_type": "stream",
          "name": "stdout",
          "text": [
            "Epoch  43 starts!\n"
          ]
        },
        {
          "output_type": "stream",
          "name": "stderr",
          "text": [
            "100%|██████████| 27/27 [00:10<00:00,  2.57it/s]\n"
          ]
        },
        {
          "output_type": "stream",
          "name": "stdout",
          "text": [
            "Epoch  44 starts!\n"
          ]
        },
        {
          "output_type": "stream",
          "name": "stderr",
          "text": [
            "100%|██████████| 27/27 [00:10<00:00,  2.57it/s]\n"
          ]
        },
        {
          "output_type": "stream",
          "name": "stdout",
          "text": [
            "Epoch  45 starts!\n"
          ]
        },
        {
          "output_type": "stream",
          "name": "stderr",
          "text": [
            "100%|██████████| 27/27 [00:10<00:00,  2.57it/s]\n"
          ]
        },
        {
          "output_type": "stream",
          "name": "stdout",
          "text": [
            "Epoch  46 starts!\n"
          ]
        },
        {
          "output_type": "stream",
          "name": "stderr",
          "text": [
            "100%|██████████| 27/27 [00:10<00:00,  2.57it/s]\n"
          ]
        },
        {
          "output_type": "stream",
          "name": "stdout",
          "text": [
            "Epoch  47 starts!\n"
          ]
        },
        {
          "output_type": "stream",
          "name": "stderr",
          "text": [
            "100%|██████████| 27/27 [00:10<00:00,  2.57it/s]\n"
          ]
        },
        {
          "output_type": "stream",
          "name": "stdout",
          "text": [
            "Epoch  48 starts!\n"
          ]
        },
        {
          "output_type": "stream",
          "name": "stderr",
          "text": [
            "100%|██████████| 27/27 [00:10<00:00,  2.57it/s]\n"
          ]
        },
        {
          "output_type": "stream",
          "name": "stdout",
          "text": [
            "Epoch  49 starts!\n"
          ]
        },
        {
          "output_type": "stream",
          "name": "stderr",
          "text": [
            "100%|██████████| 27/27 [00:10<00:00,  2.57it/s]\n"
          ]
        },
        {
          "output_type": "stream",
          "name": "stdout",
          "text": [
            "Epoch  50 starts!\n"
          ]
        },
        {
          "output_type": "stream",
          "name": "stderr",
          "text": [
            "100%|██████████| 27/27 [00:10<00:00,  2.57it/s]\n"
          ]
        },
        {
          "output_type": "stream",
          "name": "stdout",
          "text": [
            "Epoch  51 starts!\n"
          ]
        },
        {
          "output_type": "stream",
          "name": "stderr",
          "text": [
            "100%|██████████| 27/27 [00:10<00:00,  2.57it/s]\n"
          ]
        },
        {
          "output_type": "stream",
          "name": "stdout",
          "text": [
            "Epoch  52 starts!\n"
          ]
        },
        {
          "output_type": "stream",
          "name": "stderr",
          "text": [
            "100%|██████████| 27/27 [00:10<00:00,  2.57it/s]\n"
          ]
        },
        {
          "output_type": "stream",
          "name": "stdout",
          "text": [
            "Epoch  53 starts!\n"
          ]
        },
        {
          "output_type": "stream",
          "name": "stderr",
          "text": [
            "100%|██████████| 27/27 [00:10<00:00,  2.57it/s]\n"
          ]
        },
        {
          "output_type": "stream",
          "name": "stdout",
          "text": [
            "Epoch  54 starts!\n"
          ]
        },
        {
          "output_type": "stream",
          "name": "stderr",
          "text": [
            "100%|██████████| 27/27 [00:10<00:00,  2.57it/s]\n"
          ]
        },
        {
          "output_type": "stream",
          "name": "stdout",
          "text": [
            "Epoch  55 starts!\n"
          ]
        },
        {
          "output_type": "stream",
          "name": "stderr",
          "text": [
            "100%|██████████| 27/27 [00:10<00:00,  2.57it/s]\n"
          ]
        },
        {
          "output_type": "stream",
          "name": "stdout",
          "text": [
            "Epoch  56 starts!\n"
          ]
        },
        {
          "output_type": "stream",
          "name": "stderr",
          "text": [
            "100%|██████████| 27/27 [00:10<00:00,  2.57it/s]\n"
          ]
        },
        {
          "output_type": "stream",
          "name": "stdout",
          "text": [
            "Epoch  57 starts!\n"
          ]
        },
        {
          "output_type": "stream",
          "name": "stderr",
          "text": [
            "100%|██████████| 27/27 [00:10<00:00,  2.57it/s]\n"
          ]
        },
        {
          "output_type": "stream",
          "name": "stdout",
          "text": [
            "Epoch  58 starts!\n"
          ]
        },
        {
          "output_type": "stream",
          "name": "stderr",
          "text": [
            "100%|██████████| 27/27 [00:10<00:00,  2.57it/s]\n"
          ]
        },
        {
          "output_type": "stream",
          "name": "stdout",
          "text": [
            "Epoch  59 starts!\n"
          ]
        },
        {
          "output_type": "stream",
          "name": "stderr",
          "text": [
            "100%|██████████| 27/27 [00:10<00:00,  2.57it/s]\n"
          ]
        },
        {
          "output_type": "stream",
          "name": "stdout",
          "text": [
            "Epoch  60 starts!\n"
          ]
        },
        {
          "output_type": "stream",
          "name": "stderr",
          "text": [
            "100%|██████████| 27/27 [00:10<00:00,  2.57it/s]\n"
          ]
        },
        {
          "output_type": "stream",
          "name": "stdout",
          "text": [
            "Epoch  61 starts!\n"
          ]
        },
        {
          "output_type": "stream",
          "name": "stderr",
          "text": [
            "100%|██████████| 27/27 [00:10<00:00,  2.57it/s]\n"
          ]
        },
        {
          "output_type": "stream",
          "name": "stdout",
          "text": [
            "Epoch  62 starts!\n"
          ]
        },
        {
          "output_type": "stream",
          "name": "stderr",
          "text": [
            "100%|██████████| 27/27 [00:10<00:00,  2.57it/s]\n"
          ]
        },
        {
          "output_type": "stream",
          "name": "stdout",
          "text": [
            "Epoch  63 starts!\n"
          ]
        },
        {
          "output_type": "stream",
          "name": "stderr",
          "text": [
            "100%|██████████| 27/27 [00:10<00:00,  2.57it/s]\n"
          ]
        },
        {
          "output_type": "stream",
          "name": "stdout",
          "text": [
            "Epoch  64 starts!\n"
          ]
        },
        {
          "output_type": "stream",
          "name": "stderr",
          "text": [
            "100%|██████████| 27/27 [00:10<00:00,  2.57it/s]\n"
          ]
        },
        {
          "output_type": "stream",
          "name": "stdout",
          "text": [
            "Epoch  65 starts!\n"
          ]
        },
        {
          "output_type": "stream",
          "name": "stderr",
          "text": [
            "100%|██████████| 27/27 [00:10<00:00,  2.57it/s]\n"
          ]
        },
        {
          "output_type": "stream",
          "name": "stdout",
          "text": [
            "Epoch  66 starts!\n"
          ]
        },
        {
          "output_type": "stream",
          "name": "stderr",
          "text": [
            "100%|██████████| 27/27 [00:10<00:00,  2.57it/s]\n"
          ]
        },
        {
          "output_type": "stream",
          "name": "stdout",
          "text": [
            "Epoch  67 starts!\n"
          ]
        },
        {
          "output_type": "stream",
          "name": "stderr",
          "text": [
            "100%|██████████| 27/27 [00:10<00:00,  2.57it/s]\n"
          ]
        },
        {
          "output_type": "stream",
          "name": "stdout",
          "text": [
            "Epoch  68 starts!\n"
          ]
        },
        {
          "output_type": "stream",
          "name": "stderr",
          "text": [
            "100%|██████████| 27/27 [00:10<00:00,  2.57it/s]\n"
          ]
        },
        {
          "output_type": "stream",
          "name": "stdout",
          "text": [
            "Epoch  69 starts!\n"
          ]
        },
        {
          "output_type": "stream",
          "name": "stderr",
          "text": [
            "100%|██████████| 27/27 [00:10<00:00,  2.57it/s]\n"
          ]
        },
        {
          "output_type": "stream",
          "name": "stdout",
          "text": [
            "path already there!\n",
            "model saved successfully!\n",
            "path already there!\n",
            "mean loss saved successfully!\n"
          ]
        }
      ]
    },
    {
      "cell_type": "code",
      "source": [
        "# 现在读取一下刚跑完的模型的loss看看图像如何\n",
        "model_save_file_name = '/content/drive/MyDrive/DSBA M2/Deep Learning/DL的kaggle/data/saved_model_and_loss'\n",
        "loss_name = 'Mean_loss_256_epochs70_batch_size10_lr000001_Jan17_for_report_second_try.npy'\n",
        "epoch_train_loss_filename = model_save_file_name + '/' + loss_name\n",
        "\n",
        "train_data_mean_loss = np.load(epoch_train_loss_filename)\n",
        "plt.plot(train_data_mean_loss, label ='Train Loss')\n",
        "plt.xlabel(\"Epochs\")\n",
        "plt.ylabel(\"Loss Value\")\n",
        "plt.show()"
      ],
      "metadata": {
        "colab": {
          "base_uri": "https://localhost:8080/",
          "height": 279
        },
        "id": "KOcy5BtrDztd",
        "outputId": "f55f373b-7d91-4389-c032-bff169736e0a"
      },
      "execution_count": 55,
      "outputs": [
        {
          "output_type": "display_data",
          "data": {
            "image/png": "[encoded data removed]",
            "text/plain": [
              "<Figure size 432x288 with 1 Axes>"
            ]
          },
          "metadata": {
            "needs_background": "light"
          }
        }
      ]
    },
    {
      "cell_type": "markdown",
      "source": [
        "## Make prediction"
      ],
      "metadata": {
        "id": "1h0nMzaNEmQL"
      }
    },
    {
      "cell_type": "code",
      "source": [
        "# This gives the submission result:\n",
        "Model_256_epochs70_batch_size10_lr000001_Jan17_for_report_second_try = UNet(n_channels=3, n_classes=25)\n",
        "Model_256_epochs70_batch_size10_lr000001_Jan17_for_report_second_try.to(device)\n",
        "Model_256_epochs70_batch_size10_lr000001_Jan17_for_report_second_try.load_state_dict(torch.load('/content/drive/MyDrive/DSBA M2/Deep Learning/DL的kaggle/data/saved_model_and_loss/Model_256_epochs70_batch_size10_lr000001_Jan17_for_report_second_try.pt'))\n",
        "# 调用test数据\n",
        "test_data_path = '/content/drive/MyDrive/DSBA M2/Deep Learning/DL的kaggle/data/test_images/test_images'\n",
        "test_path = glob.glob(os.path.join(test_data_path, '*.jpg'))"
      ],
      "metadata": {
        "id": "i2LC62HE62YG"
      },
      "execution_count": 56,
      "outputs": []
    },
    {
      "cell_type": "code",
      "source": [
        "test_data_path = '/content/drive/MyDrive/DSBA M2/Deep Learning/DL的kaggle/data/test_images/test_images_resized'\n",
        "test_path_for_pred = glob.glob(os.path.join(test_data_path, '*.jpg'))\n",
        "\n",
        "model_save_dir = '/content/drive/MyDrive/DSBA M2/Deep Learning/DL的kaggle/data/test_images/pred_small_test_images_Jan17_for_report_256_epoch70_batch10_second_try'\n",
        "create_dir_not_exist(model_save_dir)\n",
        "\n",
        "pred_on_test(Model_256_epochs70_batch_size10_lr000001_Jan17_for_report_second_try, test_path_for_pred, model_save_dir=model_save_dir)"
      ],
      "metadata": {
        "colab": {
          "base_uri": "https://localhost:8080/"
        },
        "id": "wFVL6aJP6N6C",
        "outputId": "fc498f64-a8f8-4d96-bd51-78c0b6d97902"
      },
      "execution_count": 57,
      "outputs": [
        {
          "output_type": "stream",
          "name": "stdout",
          "text": [
            "path created!\n"
          ]
        },
        {
          "output_type": "stream",
          "name": "stderr",
          "text": [
            "100%|██████████| 112/112 [00:03<00:00, 33.10it/s]"
          ]
        },
        {
          "output_type": "stream",
          "name": "stdout",
          "text": [
            "\n",
            "Saved Successfully!\n"
          ]
        },
        {
          "output_type": "stream",
          "name": "stderr",
          "text": [
            "\n"
          ]
        }
      ]
    },
    {
      "cell_type": "code",
      "source": [
        "# 现在看一下预测出来的图片\n",
        "dir = '/content/drive/MyDrive/DSBA M2/Deep Learning/DL的kaggle/data/test_images/pred_small_test_images_Jan17_for_report_256_epoch70_batch10_second_try'\n",
        "imgs_path = glob.glob(os.path.join(dir, '*.png'))\n",
        "mask = Image.open(imgs_path[0])\n",
        "a = transforms.ToTensor()(mask)\n",
        "plt.imshow(a[0].numpy())"
      ],
      "metadata": {
        "colab": {
          "base_uri": "https://localhost:8080/",
          "height": 288
        },
        "id": "KXnjsb0qEwtS",
        "outputId": "e272f1e8-77d1-40e5-c121-eeb033b10d5c"
      },
      "execution_count": 58,
      "outputs": [
        {
          "output_type": "execute_result",
          "data": {
            "text/plain": [
              "<matplotlib.image.AxesImage at 0x7eff4e7cec90>"
            ]
          },
          "metadata": {},
          "execution_count": 58
        },
        {
          "output_type": "display_data",
          "data": {
            "image/png": "[encoded data removed]",
            "text/plain": [
              "<Figure size 432x288 with 1 Axes>"
            ]
          },
          "metadata": {
            "needs_background": "light"
          }
        }
      ]
    },
    {
      "cell_type": "markdown",
      "source": [
        "## Resize back and see the submission result"
      ],
      "metadata": {
        "id": "R7idebeDFQ32"
      }
    },
    {
      "cell_type": "code",
      "source": [
        "test_file = '/content/drive/MyDrive/DSBA M2/Deep Learning/DL的kaggle/data/test_images/pred_small_test_images_Jan17_for_report_256_epoch70_batch10_second_try'\n",
        "original_file = '/content/drive/MyDrive/DSBA M2/Deep Learning/DL的kaggle/data/test_images/test_images'\n",
        "\n",
        "# 为了保存新图\n",
        "create_dir_not_exist('/content/drive/MyDrive/DSBA M2/Deep Learning/DL的kaggle/data/test_images/pred_small_test_images_resized_back_Jan_17_second_try')\n",
        "save_dir = '/content/drive/MyDrive/DSBA M2/Deep Learning/DL的kaggle/data/test_images/pred_small_test_images_resized_back_Jan_17_second_try'\n",
        "\n",
        "\n",
        "test_files = glob.glob(os.path.join(test_file, '*.png'))\n",
        "original_files = glob.glob(os.path.join(original_file, '*.jpg'))\n",
        "\n",
        "for i in tqdm(range(len(test_files))):\n",
        "    resize_back(test_files[i], original_files[i], save_dir=save_dir, show_image=False)"
      ],
      "metadata": {
        "colab": {
          "base_uri": "https://localhost:8080/"
        },
        "id": "JtVrq40SFPsa",
        "outputId": "0dbc56e8-e03e-497c-ed5e-ce79ab14128a"
      },
      "execution_count": 59,
      "outputs": [
        {
          "output_type": "stream",
          "name": "stdout",
          "text": [
            "path created!\n"
          ]
        },
        {
          "output_type": "stream",
          "name": "stderr",
          "text": [
            "100%|██████████| 112/112 [00:57<00:00,  1.95it/s]\n"
          ]
        }
      ]
    },
    {
      "cell_type": "code",
      "source": [
        "# Submission.py\n",
        "def rle_encode(img):\n",
        "    pixels = img.flatten()\n",
        "    pixels = np.concatenate([[0], pixels, [0]])\n",
        "    runs = np.where(pixels[1:] != pixels[:-1])[0] + 1\n",
        "    runs[1::2] -= runs[::2]\n",
        "    return ' '.join(str(x) for x in runs)\n",
        "\n",
        "def rle_decode(mask_rle, shape):\n",
        "    s = mask_rle.split()\n",
        "    starts, lengths = [np.asarray(x, dtype=int) for x in (s[0:][::2], s[1:][::2])]\n",
        "    starts -= 1\n",
        "    ends = starts + lengths\n",
        "    img = np.zeros(shape[0]*shape[1], dtype=np.uint8)\n",
        "    for lo, hi in zip(starts, ends):\n",
        "        img[lo:hi] = 1\n",
        "    return img.reshape(shape)\n",
        "\n",
        "def create_rles(dir, submission_file_no):\n",
        "    # 这个dir是你放resized back test images的地方！\n",
        "    # create_dir_not_exist(dir)\n",
        "    # dir = '/content/drive/MyDrive/DSBA M2/Deep Learning/DL的kaggle/data/test_images/pred_small_test_images_resized_back/'\n",
        "    dir = dir + '/'\n",
        "    N = len(list(os.listdir(dir)))\n",
        "    file_name = 'submission_file_' + str(submission_file_no) + '.csv'\n",
        "\n",
        "    with open(file_name, 'w') as f:\n",
        "        f.write('ImageClassId,rle_mask\\n')\n",
        "        for index, i in tqdm(enumerate(os.listdir(dir))):\n",
        "            # print('{}/{}'.format(index, N))\n",
        "\n",
        "            mask = Image.open(dir + i)\n",
        "            mask = mask.resize((1024, 1024), resample=Image.NEAREST)\n",
        "            mask = np.array(mask)\n",
        "\n",
        "            for x in range(1, 25):\n",
        "                enc = rle_encode(mask == x)\n",
        "                f.write(f\"{i.split('_')[0]}_{x},{enc}\\n\")"
      ],
      "metadata": {
        "id": "CDm-dx7QFU0d"
      },
      "execution_count": 20,
      "outputs": []
    },
    {
      "cell_type": "code",
      "source": [
        "create_rles('/content/drive/MyDrive/DSBA M2/Deep Learning/DL的kaggle/data/test_images/pred_small_test_images_resized_back_Jan_17_second_try', 'Jan17_256_epoch70_batch10_for_report')"
      ],
      "metadata": {
        "colab": {
          "base_uri": "https://localhost:8080/"
        },
        "id": "3gt6SbZbJOPS",
        "outputId": "01b6e47b-e42f-4ea8-9d9f-9bf7441fb4f6"
      },
      "execution_count": 62,
      "outputs": [
        {
          "output_type": "stream",
          "name": "stderr",
          "text": [
            "112it [00:37,  2.96it/s]\n"
          ]
        }
      ]
    },
    {
      "cell_type": "markdown",
      "source": [
        "Now this time, the submission file has a submission score of: 0.64618, which is an increase! "
      ],
      "metadata": {
        "id": "iJkHhAnhJ0_3"
      }
    },
    {
      "cell_type": "code",
      "source": [
        ""
      ],
      "metadata": {
        "id": "X41X4oW5J0h8"
      },
      "execution_count": null,
      "outputs": []
    },
    {
      "cell_type": "markdown",
      "source": [
        "# Now let's try to resize the training dataset to 512*512"
      ],
      "metadata": {
        "id": "jsoLmlRoKAOG"
      }
    },
    {
      "cell_type": "markdown",
      "source": [
        "We find it's the problem of resizing the training images. Therefore, I decide to redefine the resize function to make the training images have a width of the smaller value between width and height."
      ],
      "metadata": {
        "id": "mRWmGkj_E-bt"
      }
    },
    {
      "cell_type": "markdown",
      "source": [
        "## Redefine the resize function"
      ],
      "metadata": {
        "id": "aNUwe8gpKECP"
      }
    },
    {
      "cell_type": "code",
      "source": [
        "# 由于图片不是正方形，所以先把图片做成正方形。\n",
        "def Square_Generated_and_saved(read_file, target_file_copy=False, colorful=True, show_image=False, size_=512): \n",
        "    # 这个不需要直接传tensor格式！\n",
        "\n",
        "    image = Image.open(read_file)\n",
        "    w, h = image.size\n",
        "    # print(w,h)\n",
        "\n",
        "    if colorful:\n",
        "        new_image = Image.new('RGB', size=(min(w, h), min(w, h)), color= 'white')\n",
        "    else:\n",
        "        new_image = Image.new('L', size=(min(w, h), min(w, h)), color= 'white')\n",
        "\n",
        "    new_image.paste(image)\n",
        "    new_image=new_image.resize((size_, size_)) # 这个如果之后太慢的话再加\n",
        "\n",
        "    if target_file_copy:\n",
        "        # 提取文件名字\n",
        "        image_name = read_file.split('/')[-1]\n",
        "        target_file_copy = target_file_copy + '/' + image_name\n",
        "        new_image.save(target_file_copy)\n",
        "\n",
        "    if show_image:\n",
        "        return new_image # 不是tensor格式！需要再用image_to_tensor！\n",
        "    else:\n",
        "        return None"
      ],
      "metadata": {
        "id": "BF8mBFhUEwwq"
      },
      "execution_count": 21,
      "outputs": []
    },
    {
      "cell_type": "markdown",
      "source": [
        "## Resize the training data and mask data to 512*512"
      ],
      "metadata": {
        "id": "3M8OyDR3KSk3"
      }
    },
    {
      "cell_type": "code",
      "source": [
        "# It's not necessary to excecute this block every time!\n",
        "\n",
        "# Firstly let's reshape every image we have and store them in another file\n",
        "import glob\n",
        "import os\n",
        "from tqdm import tqdm\n",
        "\n",
        "# 为每一次重新resize的图保存到一个file里！\n",
        "new_file_path_train_data = '/content/drive/MyDrive/DSBA M2/Deep Learning/DL的kaggle/data/train_images/train_images_resized_512_Jan_17for_report'\n",
        "new_file_path_train_label = '/content/drive/MyDrive/DSBA M2/Deep Learning/DL的kaggle/data/train_masks/train_masks_resized_512_Jan_17for_report'\n",
        "create_dir_not_exist(new_file_path_train_data)\n",
        "create_dir_not_exist(new_file_path_train_label)\n",
        "\n",
        "train_data_path = '/content/drive/MyDrive/DSBA M2/Deep Learning/DL的kaggle/data/train_images/train_images'\n",
        "train_mask_path = '/content/drive/MyDrive/DSBA M2/Deep Learning/DL的kaggle/data/train_masks/train_masks'\n",
        "\n",
        "imgs_path = glob.glob(os.path.join(train_data_path, '*.jpg'))\n",
        "mask_path = glob.glob(os.path.join(train_mask_path, '*.png'))\n",
        "\n",
        "for image_file in tqdm(imgs_path):\n",
        "    Square_Generated_and_saved(image_file, new_file_path_train_data, colorful=True, show_image=False, size_=512)\n",
        "for image_file in tqdm(mask_path):\n",
        "    Square_Generated_and_saved(image_file, new_file_path_train_label, colorful=False, show_image=False, size_=512)"
      ],
      "metadata": {
        "colab": {
          "base_uri": "https://localhost:8080/"
        },
        "id": "FiO045t3J0L2",
        "outputId": "0153737c-76d9-49f3-84fe-8ba9606cced7"
      },
      "execution_count": 64,
      "outputs": [
        {
          "output_type": "stream",
          "name": "stdout",
          "text": [
            "path created!\n",
            "path created!\n"
          ]
        },
        {
          "output_type": "stream",
          "name": "stderr",
          "text": [
            "100%|██████████| 261/261 [01:38<00:00,  2.66it/s]\n",
            "100%|██████████| 261/261 [01:38<00:00,  2.64it/s]\n"
          ]
        }
      ]
    },
    {
      "cell_type": "markdown",
      "source": [
        "## Do the same thing to test images"
      ],
      "metadata": {
        "id": "hGL05FkEKmJ1"
      }
    },
    {
      "cell_type": "code",
      "source": [
        "# 将test也做成相同格式\n",
        "\n",
        "test_data_path = '/content/drive/MyDrive/DSBA M2/Deep Learning/DL的kaggle/data/test_images/test_images'\n",
        "test_path = glob.glob(os.path.join(test_data_path, '*.jpg'))\n",
        "\n",
        "# 我们得把test image resize成512再说\n",
        "# 先创建文件\n",
        "def make_test_image_resized(necessary=False):\n",
        "    if necessary:\n",
        "        create_dir_not_exist('/content/drive/MyDrive/DSBA M2/Deep Learning/DL的kaggle/data/test_images/test_images_resized_512_Jan17_for_report')\n",
        "        test_data_path = '/content/drive/MyDrive/DSBA M2/Deep Learning/DL的kaggle/data/test_images/test_images_resized_512_Jan17_for_report'\n",
        "        test_path_for_pred = glob.glob(os.path.join(test_data_path, '*.jpg'))\n",
        "\n",
        "        for test_ in tqdm(test_path):\n",
        "            Square_Generated_and_saved(test_, target_file_copy=test_data_path, colorful=True, show_image=False, size_=512)\n",
        "    else:\n",
        "        print('Nothing is excecuted since the test images are already resized!')\n",
        "  \n",
        "make_test_image_resized(necessary=True)"
      ],
      "metadata": {
        "colab": {
          "base_uri": "https://localhost:8080/"
        },
        "id": "oSEQqoIcEwz7",
        "outputId": "ab6a83e3-e927-4224-abe6-b96f16e05544"
      },
      "execution_count": 65,
      "outputs": [
        {
          "output_type": "stream",
          "name": "stdout",
          "text": [
            "path created!\n"
          ]
        },
        {
          "output_type": "stream",
          "name": "stderr",
          "text": [
            "100%|██████████| 112/112 [00:39<00:00,  2.82it/s]\n"
          ]
        }
      ]
    },
    {
      "cell_type": "markdown",
      "source": [
        "## Have a look at one of the images"
      ],
      "metadata": {
        "id": "nlaqZPZqLOCT"
      }
    },
    {
      "cell_type": "code",
      "source": [
        "mask = Image.open('/content/drive/MyDrive/DSBA M2/Deep Learning/DL的kaggle/data/train_masks/train_masks_resized_512_Jan_17for_report/10172.png')\n",
        "a = transforms.ToTensor()(mask)\n",
        "plt.imshow(a[0].numpy())"
      ],
      "metadata": {
        "colab": {
          "base_uri": "https://localhost:8080/",
          "height": 288
        },
        "id": "BtfzL8z8LNhJ",
        "outputId": "40c0ead2-2301-45b6-9923-f671a8a66419"
      },
      "execution_count": 66,
      "outputs": [
        {
          "output_type": "execute_result",
          "data": {
            "text/plain": [
              "<matplotlib.image.AxesImage at 0x7eff4e75a4d0>"
            ]
          },
          "metadata": {},
          "execution_count": 66
        },
        {
          "output_type": "display_data",
          "data": {
            "image/png": "[encoded data removed]",
            "text/plain": [
              "<Figure size 432x288 with 1 Axes>"
            ]
          },
          "metadata": {
            "needs_background": "light"
          }
        }
      ]
    },
    {
      "cell_type": "code",
      "source": [
        "mask = Image.open('/content/drive/MyDrive/DSBA M2/Deep Learning/DL的kaggle/data/test_images/test_images_resized_512_Jan17_for_report/10170.jpg')\n",
        "a = transforms.ToTensor()(mask)\n",
        "plt.imshow(a[0].numpy())"
      ],
      "metadata": {
        "colab": {
          "base_uri": "https://localhost:8080/",
          "height": 288
        },
        "id": "qXPY2O8nLYsE",
        "outputId": "0a242e6d-7aae-4bb1-97b4-f21fed3ab5dd"
      },
      "execution_count": 71,
      "outputs": [
        {
          "output_type": "execute_result",
          "data": {
            "text/plain": [
              "<matplotlib.image.AxesImage at 0x7eff4e6c9790>"
            ]
          },
          "metadata": {},
          "execution_count": 71
        },
        {
          "output_type": "display_data",
          "data": {
            "image/png": "[encoded data removed]",
            "text/plain": [
              "<Figure size 432x288 with 1 Axes>"
            ]
          },
          "metadata": {
            "needs_background": "light"
          }
        }
      ]
    },
    {
      "cell_type": "markdown",
      "source": [
        "## Begin training: epochs=40, learning rate=0.0001"
      ],
      "metadata": {
        "id": "-ov6BvY4LKwT"
      }
    },
    {
      "cell_type": "code",
      "source": [
        "# 现在进行训练！\n",
        "device = 'cuda' if torch.cuda.is_available() else 'cpu'\n",
        "train_data_path = '/content/drive/MyDrive/DSBA M2/Deep Learning/DL的kaggle/data/train_images/train_images_resized_512_Jan_17for_report'\n",
        "train_mask_path = '/content/drive/MyDrive/DSBA M2/Deep Learning/DL的kaggle/data/train_masks/train_masks_resized_512_Jan_17for_report'\n",
        "model_save_file_name = '/content/drive/MyDrive/DSBA M2/Deep Learning/DL的kaggle/data/saved_model_and_loss'\n",
        "model_name = 'Model_512_epochs40_batch_size5_lr00001_Jan17_for_report_third_try.pt'\n",
        "mean_loss_file_name = model_save_file_name\n",
        "loss_name = 'Mean_loss_512_epochs40_batch_size5_lr00001_Jan17_for_report_third_try.npy'\n",
        "\n",
        "net = UNet(n_channels=3, n_classes=25)\n",
        "net.to(device)\n",
        "train_net(net,\n",
        "          device, \n",
        "          train_data_path=train_data_path, \n",
        "          train_mask_path=train_mask_path, \n",
        "          model_save_file_name=model_save_file_name, \n",
        "          model_name=model_name, \n",
        "          mean_loss_file_name=mean_loss_file_name, \n",
        "          loss_name=loss_name, \n",
        "          epochs=40, \n",
        "          batch_size=5, \n",
        "          lr=0.0001)"
      ],
      "metadata": {
        "colab": {
          "base_uri": "https://localhost:8080/"
        },
        "id": "su7e2gfKEw2i",
        "outputId": "26fe4d57-405a-4919-d8bc-356e30ca34be"
      },
      "execution_count": 73,
      "outputs": [
        {
          "output_type": "stream",
          "name": "stdout",
          "text": [
            "Epoch  0 starts!\n"
          ]
        },
        {
          "output_type": "stream",
          "name": "stderr",
          "text": [
            "100%|██████████| 53/53 [00:38<00:00,  1.37it/s]\n"
          ]
        },
        {
          "output_type": "stream",
          "name": "stdout",
          "text": [
            "Epoch  1 starts!\n"
          ]
        },
        {
          "output_type": "stream",
          "name": "stderr",
          "text": [
            "100%|██████████| 53/53 [00:38<00:00,  1.37it/s]\n"
          ]
        },
        {
          "output_type": "stream",
          "name": "stdout",
          "text": [
            "Epoch  2 starts!\n"
          ]
        },
        {
          "output_type": "stream",
          "name": "stderr",
          "text": [
            "100%|██████████| 53/53 [00:38<00:00,  1.37it/s]\n"
          ]
        },
        {
          "output_type": "stream",
          "name": "stdout",
          "text": [
            "Epoch  3 starts!\n"
          ]
        },
        {
          "output_type": "stream",
          "name": "stderr",
          "text": [
            "100%|██████████| 53/53 [00:38<00:00,  1.37it/s]\n"
          ]
        },
        {
          "output_type": "stream",
          "name": "stdout",
          "text": [
            "Epoch  4 starts!\n"
          ]
        },
        {
          "output_type": "stream",
          "name": "stderr",
          "text": [
            "100%|██████████| 53/53 [00:38<00:00,  1.37it/s]\n"
          ]
        },
        {
          "output_type": "stream",
          "name": "stdout",
          "text": [
            "Epoch  5 starts!\n"
          ]
        },
        {
          "output_type": "stream",
          "name": "stderr",
          "text": [
            "100%|██████████| 53/53 [00:38<00:00,  1.37it/s]\n"
          ]
        },
        {
          "output_type": "stream",
          "name": "stdout",
          "text": [
            "Epoch  6 starts!\n"
          ]
        },
        {
          "output_type": "stream",
          "name": "stderr",
          "text": [
            "100%|██████████| 53/53 [00:38<00:00,  1.37it/s]\n"
          ]
        },
        {
          "output_type": "stream",
          "name": "stdout",
          "text": [
            "Epoch  7 starts!\n"
          ]
        },
        {
          "output_type": "stream",
          "name": "stderr",
          "text": [
            "100%|██████████| 53/53 [00:38<00:00,  1.37it/s]\n"
          ]
        },
        {
          "output_type": "stream",
          "name": "stdout",
          "text": [
            "Epoch  8 starts!\n"
          ]
        },
        {
          "output_type": "stream",
          "name": "stderr",
          "text": [
            "100%|██████████| 53/53 [00:38<00:00,  1.37it/s]\n"
          ]
        },
        {
          "output_type": "stream",
          "name": "stdout",
          "text": [
            "Epoch  9 starts!\n"
          ]
        },
        {
          "output_type": "stream",
          "name": "stderr",
          "text": [
            "100%|██████████| 53/53 [00:38<00:00,  1.37it/s]\n"
          ]
        },
        {
          "output_type": "stream",
          "name": "stdout",
          "text": [
            "Epoch  10 starts!\n"
          ]
        },
        {
          "output_type": "stream",
          "name": "stderr",
          "text": [
            "100%|██████████| 53/53 [00:38<00:00,  1.37it/s]\n"
          ]
        },
        {
          "output_type": "stream",
          "name": "stdout",
          "text": [
            "Epoch  11 starts!\n"
          ]
        },
        {
          "output_type": "stream",
          "name": "stderr",
          "text": [
            "100%|██████████| 53/53 [00:38<00:00,  1.37it/s]\n"
          ]
        },
        {
          "output_type": "stream",
          "name": "stdout",
          "text": [
            "Epoch  12 starts!\n"
          ]
        },
        {
          "output_type": "stream",
          "name": "stderr",
          "text": [
            "100%|██████████| 53/53 [00:38<00:00,  1.37it/s]\n"
          ]
        },
        {
          "output_type": "stream",
          "name": "stdout",
          "text": [
            "Epoch  13 starts!\n"
          ]
        },
        {
          "output_type": "stream",
          "name": "stderr",
          "text": [
            "100%|██████████| 53/53 [00:38<00:00,  1.37it/s]\n"
          ]
        },
        {
          "output_type": "stream",
          "name": "stdout",
          "text": [
            "Epoch  14 starts!\n"
          ]
        },
        {
          "output_type": "stream",
          "name": "stderr",
          "text": [
            "100%|██████████| 53/53 [00:38<00:00,  1.37it/s]\n"
          ]
        },
        {
          "output_type": "stream",
          "name": "stdout",
          "text": [
            "Epoch  15 starts!\n"
          ]
        },
        {
          "output_type": "stream",
          "name": "stderr",
          "text": [
            "100%|██████████| 53/53 [00:38<00:00,  1.37it/s]\n"
          ]
        },
        {
          "output_type": "stream",
          "name": "stdout",
          "text": [
            "Epoch  16 starts!\n"
          ]
        },
        {
          "output_type": "stream",
          "name": "stderr",
          "text": [
            "100%|██████████| 53/53 [00:38<00:00,  1.37it/s]\n"
          ]
        },
        {
          "output_type": "stream",
          "name": "stdout",
          "text": [
            "Epoch  17 starts!\n"
          ]
        },
        {
          "output_type": "stream",
          "name": "stderr",
          "text": [
            "100%|██████████| 53/53 [00:38<00:00,  1.37it/s]\n"
          ]
        },
        {
          "output_type": "stream",
          "name": "stdout",
          "text": [
            "Epoch  18 starts!\n"
          ]
        },
        {
          "output_type": "stream",
          "name": "stderr",
          "text": [
            "100%|██████████| 53/53 [00:38<00:00,  1.37it/s]\n"
          ]
        },
        {
          "output_type": "stream",
          "name": "stdout",
          "text": [
            "Epoch  19 starts!\n"
          ]
        },
        {
          "output_type": "stream",
          "name": "stderr",
          "text": [
            "100%|██████████| 53/53 [00:38<00:00,  1.37it/s]\n"
          ]
        },
        {
          "output_type": "stream",
          "name": "stdout",
          "text": [
            "Epoch  20 starts!\n"
          ]
        },
        {
          "output_type": "stream",
          "name": "stderr",
          "text": [
            "100%|██████████| 53/53 [00:38<00:00,  1.37it/s]\n"
          ]
        },
        {
          "output_type": "stream",
          "name": "stdout",
          "text": [
            "Epoch  21 starts!\n"
          ]
        },
        {
          "output_type": "stream",
          "name": "stderr",
          "text": [
            "100%|██████████| 53/53 [00:38<00:00,  1.37it/s]\n"
          ]
        },
        {
          "output_type": "stream",
          "name": "stdout",
          "text": [
            "Epoch  22 starts!\n"
          ]
        },
        {
          "output_type": "stream",
          "name": "stderr",
          "text": [
            "100%|██████████| 53/53 [00:38<00:00,  1.37it/s]\n"
          ]
        },
        {
          "output_type": "stream",
          "name": "stdout",
          "text": [
            "Epoch  23 starts!\n"
          ]
        },
        {
          "output_type": "stream",
          "name": "stderr",
          "text": [
            "100%|██████████| 53/53 [00:38<00:00,  1.38it/s]\n"
          ]
        },
        {
          "output_type": "stream",
          "name": "stdout",
          "text": [
            "Epoch  24 starts!\n"
          ]
        },
        {
          "output_type": "stream",
          "name": "stderr",
          "text": [
            "100%|██████████| 53/53 [00:38<00:00,  1.37it/s]\n"
          ]
        },
        {
          "output_type": "stream",
          "name": "stdout",
          "text": [
            "Epoch  25 starts!\n"
          ]
        },
        {
          "output_type": "stream",
          "name": "stderr",
          "text": [
            "100%|██████████| 53/53 [00:38<00:00,  1.37it/s]\n"
          ]
        },
        {
          "output_type": "stream",
          "name": "stdout",
          "text": [
            "Epoch  26 starts!\n"
          ]
        },
        {
          "output_type": "stream",
          "name": "stderr",
          "text": [
            "100%|██████████| 53/53 [00:38<00:00,  1.37it/s]\n"
          ]
        },
        {
          "output_type": "stream",
          "name": "stdout",
          "text": [
            "Epoch  27 starts!\n"
          ]
        },
        {
          "output_type": "stream",
          "name": "stderr",
          "text": [
            "100%|██████████| 53/53 [00:38<00:00,  1.37it/s]\n"
          ]
        },
        {
          "output_type": "stream",
          "name": "stdout",
          "text": [
            "Epoch  28 starts!\n"
          ]
        },
        {
          "output_type": "stream",
          "name": "stderr",
          "text": [
            "100%|██████████| 53/53 [00:38<00:00,  1.38it/s]\n"
          ]
        },
        {
          "output_type": "stream",
          "name": "stdout",
          "text": [
            "Epoch  29 starts!\n"
          ]
        },
        {
          "output_type": "stream",
          "name": "stderr",
          "text": [
            "100%|██████████| 53/53 [00:38<00:00,  1.37it/s]\n"
          ]
        },
        {
          "output_type": "stream",
          "name": "stdout",
          "text": [
            "Epoch  30 starts!\n"
          ]
        },
        {
          "output_type": "stream",
          "name": "stderr",
          "text": [
            "100%|██████████| 53/53 [00:38<00:00,  1.37it/s]\n"
          ]
        },
        {
          "output_type": "stream",
          "name": "stdout",
          "text": [
            "Epoch  31 starts!\n"
          ]
        },
        {
          "output_type": "stream",
          "name": "stderr",
          "text": [
            "100%|██████████| 53/53 [00:38<00:00,  1.37it/s]\n"
          ]
        },
        {
          "output_type": "stream",
          "name": "stdout",
          "text": [
            "Epoch  32 starts!\n"
          ]
        },
        {
          "output_type": "stream",
          "name": "stderr",
          "text": [
            "100%|██████████| 53/53 [00:38<00:00,  1.37it/s]\n"
          ]
        },
        {
          "output_type": "stream",
          "name": "stdout",
          "text": [
            "Epoch  33 starts!\n"
          ]
        },
        {
          "output_type": "stream",
          "name": "stderr",
          "text": [
            "100%|██████████| 53/53 [00:38<00:00,  1.37it/s]\n"
          ]
        },
        {
          "output_type": "stream",
          "name": "stdout",
          "text": [
            "Epoch  34 starts!\n"
          ]
        },
        {
          "output_type": "stream",
          "name": "stderr",
          "text": [
            "100%|██████████| 53/53 [00:38<00:00,  1.37it/s]\n"
          ]
        },
        {
          "output_type": "stream",
          "name": "stdout",
          "text": [
            "Epoch  35 starts!\n"
          ]
        },
        {
          "output_type": "stream",
          "name": "stderr",
          "text": [
            "100%|██████████| 53/53 [00:38<00:00,  1.37it/s]\n"
          ]
        },
        {
          "output_type": "stream",
          "name": "stdout",
          "text": [
            "Epoch  36 starts!\n"
          ]
        },
        {
          "output_type": "stream",
          "name": "stderr",
          "text": [
            "100%|██████████| 53/53 [00:38<00:00,  1.37it/s]\n"
          ]
        },
        {
          "output_type": "stream",
          "name": "stdout",
          "text": [
            "Epoch  37 starts!\n"
          ]
        },
        {
          "output_type": "stream",
          "name": "stderr",
          "text": [
            "100%|██████████| 53/53 [00:38<00:00,  1.37it/s]\n"
          ]
        },
        {
          "output_type": "stream",
          "name": "stdout",
          "text": [
            "Epoch  38 starts!\n"
          ]
        },
        {
          "output_type": "stream",
          "name": "stderr",
          "text": [
            "100%|██████████| 53/53 [00:38<00:00,  1.37it/s]\n"
          ]
        },
        {
          "output_type": "stream",
          "name": "stdout",
          "text": [
            "Epoch  39 starts!\n"
          ]
        },
        {
          "output_type": "stream",
          "name": "stderr",
          "text": [
            "100%|██████████| 53/53 [00:38<00:00,  1.37it/s]\n"
          ]
        },
        {
          "output_type": "stream",
          "name": "stdout",
          "text": [
            "path already there!\n",
            "model saved successfully!\n",
            "path already there!\n",
            "mean loss saved successfully!\n"
          ]
        }
      ]
    },
    {
      "cell_type": "markdown",
      "source": [
        "## Plot the loss function value curve"
      ],
      "metadata": {
        "id": "5iZjexluMDa-"
      }
    },
    {
      "cell_type": "code",
      "source": [
        "# 现在读取一下刚跑完的模型的loss看看图像如何\n",
        "model_save_file_name = '/content/drive/MyDrive/DSBA M2/Deep Learning/DL的kaggle/data/saved_model_and_loss'\n",
        "loss_name = 'Mean_loss_512_epochs40_batch_size5_lr00001_Jan17_for_report_third_try.npy'\n",
        "epoch_train_loss_filename = model_save_file_name + '/' + loss_name\n",
        "\n",
        "train_data_mean_loss = np.load(epoch_train_loss_filename)\n",
        "plt.plot(train_data_mean_loss, label ='Train Loss')\n",
        "plt.xlabel(\"Epochs\")\n",
        "plt.ylabel(\"Loss Value\")\n",
        "plt.show()"
      ],
      "metadata": {
        "colab": {
          "base_uri": "https://localhost:8080/",
          "height": 279
        },
        "id": "g6tNjaZTEw5Z",
        "outputId": "27f3833d-aa3f-4816-f98a-6d3219a3094f"
      },
      "execution_count": 74,
      "outputs": [
        {
          "output_type": "display_data",
          "data": {
            "image/png": "[encoded data removed]",
            "text/plain": [
              "<Figure size 432x288 with 1 Axes>"
            ]
          },
          "metadata": {
            "needs_background": "light"
          }
        }
      ]
    },
    {
      "cell_type": "markdown",
      "source": [
        "## Now we begin to predict"
      ],
      "metadata": {
        "id": "21yURq_YMQ1O"
      }
    },
    {
      "cell_type": "code",
      "source": [
        "# 现在开始预测\n",
        "def pred_on_test(model, test_path_for_pred, model_save_dir): # 这两个参数都是文件夹位置，我们的目的是将新的图片保存下来！（不是保存tensor）\n",
        "\n",
        "    for small_test_data in tqdm(test_path_for_pred):\n",
        "        image = cv2.imread(small_test_data)\n",
        "\n",
        "        if image.max() > 1:\n",
        "            image = image / 255\n",
        "        image = torch.tensor(image)\n",
        "        image = image.permute(2, 0, 1)\n",
        "        image = image.to(device=device, dtype=torch.float32)\n",
        "        image = image.unsqueeze(0)\n",
        "\n",
        "        model.eval()\n",
        "        outputs = model(image) # 格式是tensor，大小是[1, 25, 256, 256]\n",
        "        outputs = torch.argmax(outputs, 1) # 现在是[1, 256, 256]\n",
        "\n",
        "        # ---------------------Save the Predicted Images------------------\n",
        "        image_name = small_test_data.split('/')[-1].split('.')[0]\n",
        "        destination_dir = model_save_dir + '/' + image_name + '.png'\n",
        "        outputs = outputs.long()\n",
        "\n",
        "        if outputs.max() < 1:\n",
        "            outputs = outputs.float()*255.0\n",
        "        else:\n",
        "            outputs = outputs.float()\n",
        "\n",
        "        # outputs = outputs.float()\n",
        "        save_image(outputs, destination_dir)  # outputs大小是[1, 256, 256]\n",
        "        # save_image(torch.from_numpy(image_temp0).float()/255.0, './temp/0image_'+str(index_temp)+'.jpg', nrow= 1)\n",
        "\n",
        "    print()\n",
        "    print('Saved Successfully!')"
      ],
      "metadata": {
        "id": "hqQjv4BuEw7s"
      },
      "execution_count": 22,
      "outputs": []
    },
    {
      "cell_type": "code",
      "source": [
        "# This gives the submission result:\n",
        "# Read the model\n",
        "Model_512_epochs40_batch_size5_lr00001_Jan17_for_report_third_try = UNet(n_channels=3, n_classes=25)\n",
        "Model_512_epochs40_batch_size5_lr00001_Jan17_for_report_third_try.to(device)\n",
        "Model_512_epochs40_batch_size5_lr00001_Jan17_for_report_third_try.load_state_dict(torch.load('/content/drive/MyDrive/DSBA M2/Deep Learning/DL的kaggle/data/saved_model_and_loss/Model_512_epochs40_batch_size5_lr00001_Jan17_for_report_third_try.pt'))\n",
        "\n",
        "# 调用test数据\n",
        "test_data_path = '/content/drive/MyDrive/DSBA M2/Deep Learning/DL的kaggle/data/test_images/test_images'\n",
        "test_path = glob.glob(os.path.join(test_data_path, '*.jpg'))"
      ],
      "metadata": {
        "id": "0riFS5AnMOHK"
      },
      "execution_count": 76,
      "outputs": []
    },
    {
      "cell_type": "code",
      "source": [
        "test_data_path = '/content/drive/MyDrive/DSBA M2/Deep Learning/DL的kaggle/data/test_images/test_images_resized_512_Jan17_for_report'\n",
        "test_path_for_pred = glob.glob(os.path.join(test_data_path, '*.jpg'))\n",
        "\n",
        "model_save_dir = '/content/drive/MyDrive/DSBA M2/Deep Learning/DL的kaggle/data/test_images/pred_small_test_images_512_Kan17_for_report_third_try'\n",
        "create_dir_not_exist(model_save_dir)\n",
        "\n",
        "pred_on_test(Model_512_epochs40_batch_size5_lr00001_Jan17_for_report_third_try, test_path_for_pred, model_save_dir=model_save_dir)"
      ],
      "metadata": {
        "colab": {
          "base_uri": "https://localhost:8080/"
        },
        "id": "5PIXNBrSMOKS",
        "outputId": "12ad24c8-86f2-420f-c532-e352e25b3f0a"
      },
      "execution_count": 78,
      "outputs": [
        {
          "output_type": "stream",
          "name": "stdout",
          "text": [
            "path already there!\n"
          ]
        },
        {
          "output_type": "stream",
          "name": "stderr",
          "text": [
            "100%|██████████| 112/112 [00:08<00:00, 12.84it/s]"
          ]
        },
        {
          "output_type": "stream",
          "name": "stdout",
          "text": [
            "\n",
            "Saved Successfully!\n"
          ]
        },
        {
          "output_type": "stream",
          "name": "stderr",
          "text": [
            "\n"
          ]
        }
      ]
    },
    {
      "cell_type": "code",
      "source": [
        "# Let's see the predicted image\n",
        "dir = '/content/drive/MyDrive/DSBA M2/Deep Learning/DL的kaggle/data/test_images/pred_small_test_images_512_Kan17_for_report_third_try'\n",
        "imgs_path = glob.glob(os.path.join(dir, '*.png'))\n",
        "mask = Image.open(imgs_path[0])\n",
        "a = transforms.ToTensor()(mask)\n",
        "plt.imshow(a[0].numpy())"
      ],
      "metadata": {
        "colab": {
          "base_uri": "https://localhost:8080/",
          "height": 288
        },
        "id": "ZP2VeE0iMONK",
        "outputId": "2f69bbc2-7a58-466f-b065-c2702e6314b0"
      },
      "execution_count": 79,
      "outputs": [
        {
          "output_type": "execute_result",
          "data": {
            "text/plain": [
              "<matplotlib.image.AxesImage at 0x7eff4cce3690>"
            ]
          },
          "metadata": {},
          "execution_count": 79
        },
        {
          "output_type": "display_data",
          "data": {
            "image/png": "[encoded data removed]",
            "text/plain": [
              "<Figure size 432x288 with 1 Axes>"
            ]
          },
          "metadata": {
            "needs_background": "light"
          }
        }
      ]
    },
    {
      "cell_type": "code",
      "source": [
        "# 对比原test图\n",
        "dir = '/content/drive/MyDrive/DSBA M2/Deep Learning/DL的kaggle/data/test_images/test_images'\n",
        "imgs_path = glob.glob(os.path.join(dir, '*.jpg'))\n",
        "mask = Image.open(imgs_path[0])\n",
        "a = transforms.ToTensor()(mask)\n",
        "plt.imshow(a[0].numpy())"
      ],
      "metadata": {
        "colab": {
          "base_uri": "https://localhost:8080/",
          "height": 288
        },
        "id": "iI7_qVgNMOP_",
        "outputId": "0be16328-cdb2-4c24-a65b-364e5bcb713b"
      },
      "execution_count": 80,
      "outputs": [
        {
          "output_type": "execute_result",
          "data": {
            "text/plain": [
              "<matplotlib.image.AxesImage at 0x7eff4e6ad050>"
            ]
          },
          "metadata": {},
          "execution_count": 80
        },
        {
          "output_type": "display_data",
          "data": {
            "image/png": "[encoded data removed]",
            "text/plain": [
              "<Figure size 432x288 with 1 Axes>"
            ]
          },
          "metadata": {
            "needs_background": "light"
          }
        }
      ]
    },
    {
      "cell_type": "markdown",
      "source": [
        "## Make a submission"
      ],
      "metadata": {
        "id": "l9qc4c-pSQWi"
      }
    },
    {
      "cell_type": "code",
      "source": [
        "create_rles('/content/drive/MyDrive/DSBA M2/Deep Learning/DL的kaggle/data/test_images/pred_small_test_images_512_Kan17_for_report_third_try', 'Model_512_Kan17_for_report_third_try_66')"
      ],
      "metadata": {
        "colab": {
          "base_uri": "https://localhost:8080/"
        },
        "id": "XbqPSn04SPvN",
        "outputId": "b2172561-469f-4c17-c730-026553c034bb"
      },
      "execution_count": 82,
      "outputs": [
        {
          "output_type": "stream",
          "name": "stderr",
          "text": [
            "112it [00:24,  4.66it/s]\n"
          ]
        }
      ]
    },
    {
      "cell_type": "markdown",
      "source": [
        "This submission.csv has a score of: 0.66108, and we should do more to increase this."
      ],
      "metadata": {
        "id": "ty5rFzx-TGuR"
      }
    },
    {
      "cell_type": "code",
      "source": [
        ""
      ],
      "metadata": {
        "id": "GIyly5UfMOTI"
      },
      "execution_count": null,
      "outputs": []
    },
    {
      "cell_type": "markdown",
      "source": [
        "# Seems the epochs are too many, now we try epochs=10, learning rate=0.0001"
      ],
      "metadata": {
        "id": "fHYRMvOCNh9E"
      }
    },
    {
      "cell_type": "code",
      "source": [
        "# Empty the cache\n",
        "torch.cuda.empty_cache()"
      ],
      "metadata": {
        "id": "oE3zDOu-S-fo"
      },
      "execution_count": 96,
      "outputs": []
    },
    {
      "cell_type": "code",
      "source": [
        "# 现在进行训练！\n",
        "device = 'cuda' if torch.cuda.is_available() else 'cpu'\n",
        "train_data_path = '/content/drive/MyDrive/DSBA M2/Deep Learning/DL的kaggle/data/train_images/train_images_resized_512_Jan_17for_report'\n",
        "train_mask_path = '/content/drive/MyDrive/DSBA M2/Deep Learning/DL的kaggle/data/train_masks/train_masks_resized_512_Jan_17for_report'\n",
        "model_save_file_name = '/content/drive/MyDrive/DSBA M2/Deep Learning/DL的kaggle/data/saved_model_and_loss'\n",
        "model_name = 'Model_512_epochs10_batch_size10_lr00001_Jan17_for_report_fourth_try_final.pt'\n",
        "mean_loss_file_name = model_save_file_name\n",
        "loss_name = 'Mean_loss_512_epochs10_batch_size10_lr00001_Jan17_for_report_fourth_try_final.npy'\n",
        "\n",
        "net = UNet(n_channels=3, n_classes=25)\n",
        "net.to(device)\n",
        "train_net(net,\n",
        "          device, \n",
        "          train_data_path=train_data_path, \n",
        "          train_mask_path=train_mask_path, \n",
        "          model_save_file_name=model_save_file_name, \n",
        "          model_name=model_name, \n",
        "          mean_loss_file_name=mean_loss_file_name, \n",
        "          loss_name=loss_name, \n",
        "          epochs=10, \n",
        "          batch_size=1, \n",
        "          lr=0.0001)"
      ],
      "metadata": {
        "colab": {
          "base_uri": "https://localhost:8080/"
        },
        "id": "cWjrKClgMOWS",
        "outputId": "8b533713-3169-41b7-da55-e1f633815be1"
      },
      "execution_count": 23,
      "outputs": [
        {
          "output_type": "stream",
          "name": "stdout",
          "text": [
            "Epoch  0 starts!\n"
          ]
        },
        {
          "output_type": "stream",
          "name": "stderr",
          "text": [
            "100%|██████████| 261/261 [01:11<00:00,  3.65it/s]\n"
          ]
        },
        {
          "output_type": "stream",
          "name": "stdout",
          "text": [
            "Epoch  1 starts!\n"
          ]
        },
        {
          "output_type": "stream",
          "name": "stderr",
          "text": [
            "100%|██████████| 261/261 [00:43<00:00,  6.06it/s]\n"
          ]
        },
        {
          "output_type": "stream",
          "name": "stdout",
          "text": [
            "Epoch  2 starts!\n"
          ]
        },
        {
          "output_type": "stream",
          "name": "stderr",
          "text": [
            "100%|██████████| 261/261 [00:43<00:00,  6.06it/s]\n"
          ]
        },
        {
          "output_type": "stream",
          "name": "stdout",
          "text": [
            "Epoch  3 starts!\n"
          ]
        },
        {
          "output_type": "stream",
          "name": "stderr",
          "text": [
            "100%|██████████| 261/261 [00:43<00:00,  6.06it/s]\n"
          ]
        },
        {
          "output_type": "stream",
          "name": "stdout",
          "text": [
            "Epoch  4 starts!\n"
          ]
        },
        {
          "output_type": "stream",
          "name": "stderr",
          "text": [
            "100%|██████████| 261/261 [00:43<00:00,  6.06it/s]\n"
          ]
        },
        {
          "output_type": "stream",
          "name": "stdout",
          "text": [
            "Epoch  5 starts!\n"
          ]
        },
        {
          "output_type": "stream",
          "name": "stderr",
          "text": [
            "100%|██████████| 261/261 [00:43<00:00,  6.06it/s]\n"
          ]
        },
        {
          "output_type": "stream",
          "name": "stdout",
          "text": [
            "Epoch  6 starts!\n"
          ]
        },
        {
          "output_type": "stream",
          "name": "stderr",
          "text": [
            "100%|██████████| 261/261 [00:43<00:00,  6.06it/s]\n"
          ]
        },
        {
          "output_type": "stream",
          "name": "stdout",
          "text": [
            "Epoch  7 starts!\n"
          ]
        },
        {
          "output_type": "stream",
          "name": "stderr",
          "text": [
            "100%|██████████| 261/261 [00:43<00:00,  6.06it/s]\n"
          ]
        },
        {
          "output_type": "stream",
          "name": "stdout",
          "text": [
            "Epoch  8 starts!\n"
          ]
        },
        {
          "output_type": "stream",
          "name": "stderr",
          "text": [
            "100%|██████████| 261/261 [00:43<00:00,  6.06it/s]\n"
          ]
        },
        {
          "output_type": "stream",
          "name": "stdout",
          "text": [
            "Epoch  9 starts!\n"
          ]
        },
        {
          "output_type": "stream",
          "name": "stderr",
          "text": [
            "100%|██████████| 261/261 [00:43<00:00,  6.06it/s]\n"
          ]
        },
        {
          "output_type": "stream",
          "name": "stdout",
          "text": [
            "path already there!\n",
            "model saved successfully!\n",
            "path already there!\n",
            "mean loss saved successfully!\n"
          ]
        }
      ]
    },
    {
      "cell_type": "code",
      "source": [
        "# 现在读取一下刚跑完的模型的loss看看图像如何\n",
        "model_save_file_name = '/content/drive/MyDrive/DSBA M2/Deep Learning/DL的kaggle/data/saved_model_and_loss'\n",
        "loss_name = 'Mean_loss_512_epochs10_batch_size10_lr00001_Jan17_for_report_fourth_try_final.npy'\n",
        "epoch_train_loss_filename = model_save_file_name + '/' + loss_name\n",
        "\n",
        "train_data_mean_loss = np.load(epoch_train_loss_filename)\n",
        "plt.plot(train_data_mean_loss, label ='Train Loss')\n",
        "plt.xlabel(\"Epochs\")\n",
        "plt.ylabel(\"Loss Value\")\n",
        "plt.show()"
      ],
      "metadata": {
        "colab": {
          "base_uri": "https://localhost:8080/",
          "height": 279
        },
        "id": "LP5xOTf8MOZG",
        "outputId": "190410a4-fdd0-4bd0-ec5a-b645c8e0eb0d"
      },
      "execution_count": 25,
      "outputs": [
        {
          "output_type": "display_data",
          "data": {
            "image/png": "[encoded data removed]",
            "text/plain": [
              "<Figure size 432x288 with 1 Axes>"
            ]
          },
          "metadata": {
            "needs_background": "light"
          }
        }
      ]
    },
    {
      "cell_type": "markdown",
      "source": [
        "## Make prediction"
      ],
      "metadata": {
        "id": "2KNAo5B1OAWa"
      }
    },
    {
      "cell_type": "code",
      "source": [
        "# This gives the submission result:\n",
        "# 先读取模型\n",
        "Model_512_epochs10_batch_size10_lr00001_Jan17_for_report_fourth_try = UNet(n_channels=3, n_classes=25)\n",
        "Model_512_epochs10_batch_size10_lr00001_Jan17_for_report_fourth_try.to(device)\n",
        "Model_512_epochs10_batch_size10_lr00001_Jan17_for_report_fourth_try.load_state_dict(torch.load('/content/drive/MyDrive/DSBA M2/Deep Learning/DL的kaggle/data/saved_model_and_loss/Model_512_epochs10_batch_size10_lr00001_Jan17_for_report_fourth_try_final.pt'))\n",
        "\n",
        "# 调用test数据\n",
        "test_data_path = '/content/drive/MyDrive/DSBA M2/Deep Learning/DL的kaggle/data/test_images/test_images'\n",
        "test_path = glob.glob(os.path.join(test_data_path, '*.jpg'))"
      ],
      "metadata": {
        "id": "0Bmor-7JMObn"
      },
      "execution_count": 27,
      "outputs": []
    },
    {
      "cell_type": "code",
      "source": [
        "test_data_path = '/content/drive/MyDrive/DSBA M2/Deep Learning/DL的kaggle/data/test_images/test_images_resized_512_Jan17_for_report'\n",
        "test_path_for_pred = glob.glob(os.path.join(test_data_path, '*.jpg'))\n",
        "\n",
        "model_save_dir = '/content/drive/MyDrive/DSBA M2/Deep Learning/DL的kaggle/data/test_images/pred_small_test_images_512_lr0001_epoch10_Jan_17_for_report_fourth_try'\n",
        "create_dir_not_exist(model_save_dir)\n",
        "\n",
        "pred_on_test(Model_512_epochs10_batch_size10_lr00001_Jan17_for_report_fourth_try, test_path_for_pred, model_save_dir=model_save_dir)"
      ],
      "metadata": {
        "colab": {
          "base_uri": "https://localhost:8080/"
        },
        "id": "TidIlvSS3LtK",
        "outputId": "2359fe87-33ef-43c8-aac5-ca77bc6bd3bf"
      },
      "execution_count": 28,
      "outputs": [
        {
          "output_type": "stream",
          "name": "stdout",
          "text": [
            "path created!\n"
          ]
        },
        {
          "output_type": "stream",
          "name": "stderr",
          "text": [
            "100%|██████████| 112/112 [00:09<00:00, 11.86it/s]"
          ]
        },
        {
          "output_type": "stream",
          "name": "stdout",
          "text": [
            "\n",
            "Saved Successfully!\n"
          ]
        },
        {
          "output_type": "stream",
          "name": "stderr",
          "text": [
            "\n"
          ]
        }
      ]
    },
    {
      "cell_type": "markdown",
      "source": [
        "## Now let's run the submission.py"
      ],
      "metadata": {
        "id": "CCIlnGdxOWHj"
      }
    },
    {
      "cell_type": "code",
      "source": [
        "create_rles('/content/drive/MyDrive/DSBA M2/Deep Learning/DL的kaggle/data/test_images/pred_small_test_images_512_lr0001_epoch10_Jan_17_for_report_fourth_try', 'Model_512_lr0001_epoch10_Jan_17_for_report_fourth_try')"
      ],
      "metadata": {
        "colab": {
          "base_uri": "https://localhost:8080/"
        },
        "id": "BoKJaDiUOIE0",
        "outputId": "d28388fc-d3ed-4d11-ba65-47573a111e02"
      },
      "execution_count": 29,
      "outputs": [
        {
          "output_type": "stream",
          "name": "stderr",
          "text": [
            "112it [00:23,  4.81it/s]\n"
          ]
        }
      ]
    },
    {
      "cell_type": "markdown",
      "source": [
        "The submission score is: 0.66770, which is the highest one so far."
      ],
      "metadata": {
        "id": "QJxde8GjWmow"
      }
    },
    {
      "cell_type": "code",
      "source": [
        ""
      ],
      "metadata": {
        "id": "i-fLakd8OIKM"
      },
      "execution_count": null,
      "outputs": []
    }
  ]
}